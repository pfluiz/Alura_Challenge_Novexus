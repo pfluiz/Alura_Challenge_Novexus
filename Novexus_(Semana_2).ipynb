{
  "nbformat": 4,
  "nbformat_minor": 0,
  "metadata": {
    "colab": {
      "provenance": []
    },
    "kernelspec": {
      "name": "python3",
      "display_name": "Python 3"
    },
    "language_info": {
      "name": "python"
    }
  },
  "cells": [
    {
      "cell_type": "code",
      "execution_count": 7,
      "metadata": {
        "id": "2mifajwvn-HL"
      },
      "outputs": [],
      "source": [
        "import pandas as pd\n",
        "import matplotlib.pyplot as plt\n",
        "import pandas as pd\n",
        "import random"
      ]
    },
    {
      "cell_type": "code",
      "source": [
        "df = pd.read_csv('/content/df_chi2.csv')"
      ],
      "metadata": {
        "id": "0CyhrlcMocWu"
      },
      "execution_count": 8,
      "outputs": []
    },
    {
      "cell_type": "code",
      "source": [
        "df.head()"
      ],
      "metadata": {
        "colab": {
          "base_uri": "https://localhost:8080/",
          "height": 206
        },
        "id": "6TG4M-Klok4e",
        "outputId": "39578c34-a3d2-4216-9f61-3be98484f191"
      },
      "execution_count": 9,
      "outputs": [
        {
          "output_type": "execute_result",
          "data": {
            "text/plain": [
              "   tenure_0-5  account_Contract_MONTH-TO-MONTH  account_Contract_TWO YEAR  \\\n",
              "0           0                                0                          0   \n",
              "1           0                                1                          0   \n",
              "2           1                                1                          0   \n",
              "3           0                                1                          0   \n",
              "4           1                                1                          0   \n",
              "\n",
              "   account_charges_0-500  Churn  \n",
              "0                      0      0  \n",
              "1                      0      0  \n",
              "2                      1      1  \n",
              "3                      0      1  \n",
              "4                      1      1  "
            ],
            "text/html": [
              "\n",
              "  <div id=\"df-bb2552c0-d4fc-4800-9d46-be05e8e64115\" class=\"colab-df-container\">\n",
              "    <div>\n",
              "<style scoped>\n",
              "    .dataframe tbody tr th:only-of-type {\n",
              "        vertical-align: middle;\n",
              "    }\n",
              "\n",
              "    .dataframe tbody tr th {\n",
              "        vertical-align: top;\n",
              "    }\n",
              "\n",
              "    .dataframe thead th {\n",
              "        text-align: right;\n",
              "    }\n",
              "</style>\n",
              "<table border=\"1\" class=\"dataframe\">\n",
              "  <thead>\n",
              "    <tr style=\"text-align: right;\">\n",
              "      <th></th>\n",
              "      <th>tenure_0-5</th>\n",
              "      <th>account_Contract_MONTH-TO-MONTH</th>\n",
              "      <th>account_Contract_TWO YEAR</th>\n",
              "      <th>account_charges_0-500</th>\n",
              "      <th>Churn</th>\n",
              "    </tr>\n",
              "  </thead>\n",
              "  <tbody>\n",
              "    <tr>\n",
              "      <th>0</th>\n",
              "      <td>0</td>\n",
              "      <td>0</td>\n",
              "      <td>0</td>\n",
              "      <td>0</td>\n",
              "      <td>0</td>\n",
              "    </tr>\n",
              "    <tr>\n",
              "      <th>1</th>\n",
              "      <td>0</td>\n",
              "      <td>1</td>\n",
              "      <td>0</td>\n",
              "      <td>0</td>\n",
              "      <td>0</td>\n",
              "    </tr>\n",
              "    <tr>\n",
              "      <th>2</th>\n",
              "      <td>1</td>\n",
              "      <td>1</td>\n",
              "      <td>0</td>\n",
              "      <td>1</td>\n",
              "      <td>1</td>\n",
              "    </tr>\n",
              "    <tr>\n",
              "      <th>3</th>\n",
              "      <td>0</td>\n",
              "      <td>1</td>\n",
              "      <td>0</td>\n",
              "      <td>0</td>\n",
              "      <td>1</td>\n",
              "    </tr>\n",
              "    <tr>\n",
              "      <th>4</th>\n",
              "      <td>1</td>\n",
              "      <td>1</td>\n",
              "      <td>0</td>\n",
              "      <td>1</td>\n",
              "      <td>1</td>\n",
              "    </tr>\n",
              "  </tbody>\n",
              "</table>\n",
              "</div>\n",
              "    <div class=\"colab-df-buttons\">\n",
              "\n",
              "  <div class=\"colab-df-container\">\n",
              "    <button class=\"colab-df-convert\" onclick=\"convertToInteractive('df-bb2552c0-d4fc-4800-9d46-be05e8e64115')\"\n",
              "            title=\"Convert this dataframe to an interactive table.\"\n",
              "            style=\"display:none;\">\n",
              "\n",
              "  <svg xmlns=\"http://www.w3.org/2000/svg\" height=\"24px\" viewBox=\"0 -960 960 960\">\n",
              "    <path d=\"M120-120v-720h720v720H120Zm60-500h600v-160H180v160Zm220 220h160v-160H400v160Zm0 220h160v-160H400v160ZM180-400h160v-160H180v160Zm440 0h160v-160H620v160ZM180-180h160v-160H180v160Zm440 0h160v-160H620v160Z\"/>\n",
              "  </svg>\n",
              "    </button>\n",
              "\n",
              "  <style>\n",
              "    .colab-df-container {\n",
              "      display:flex;\n",
              "      gap: 12px;\n",
              "    }\n",
              "\n",
              "    .colab-df-convert {\n",
              "      background-color: #E8F0FE;\n",
              "      border: none;\n",
              "      border-radius: 50%;\n",
              "      cursor: pointer;\n",
              "      display: none;\n",
              "      fill: #1967D2;\n",
              "      height: 32px;\n",
              "      padding: 0 0 0 0;\n",
              "      width: 32px;\n",
              "    }\n",
              "\n",
              "    .colab-df-convert:hover {\n",
              "      background-color: #E2EBFA;\n",
              "      box-shadow: 0px 1px 2px rgba(60, 64, 67, 0.3), 0px 1px 3px 1px rgba(60, 64, 67, 0.15);\n",
              "      fill: #174EA6;\n",
              "    }\n",
              "\n",
              "    .colab-df-buttons div {\n",
              "      margin-bottom: 4px;\n",
              "    }\n",
              "\n",
              "    [theme=dark] .colab-df-convert {\n",
              "      background-color: #3B4455;\n",
              "      fill: #D2E3FC;\n",
              "    }\n",
              "\n",
              "    [theme=dark] .colab-df-convert:hover {\n",
              "      background-color: #434B5C;\n",
              "      box-shadow: 0px 1px 3px 1px rgba(0, 0, 0, 0.15);\n",
              "      filter: drop-shadow(0px 1px 2px rgba(0, 0, 0, 0.3));\n",
              "      fill: #FFFFFF;\n",
              "    }\n",
              "  </style>\n",
              "\n",
              "    <script>\n",
              "      const buttonEl =\n",
              "        document.querySelector('#df-bb2552c0-d4fc-4800-9d46-be05e8e64115 button.colab-df-convert');\n",
              "      buttonEl.style.display =\n",
              "        google.colab.kernel.accessAllowed ? 'block' : 'none';\n",
              "\n",
              "      async function convertToInteractive(key) {\n",
              "        const element = document.querySelector('#df-bb2552c0-d4fc-4800-9d46-be05e8e64115');\n",
              "        const dataTable =\n",
              "          await google.colab.kernel.invokeFunction('convertToInteractive',\n",
              "                                                    [key], {});\n",
              "        if (!dataTable) return;\n",
              "\n",
              "        const docLinkHtml = 'Like what you see? Visit the ' +\n",
              "          '<a target=\"_blank\" href=https://colab.research.google.com/notebooks/data_table.ipynb>data table notebook</a>'\n",
              "          + ' to learn more about interactive tables.';\n",
              "        element.innerHTML = '';\n",
              "        dataTable['output_type'] = 'display_data';\n",
              "        await google.colab.output.renderOutput(dataTable, element);\n",
              "        const docLink = document.createElement('div');\n",
              "        docLink.innerHTML = docLinkHtml;\n",
              "        element.appendChild(docLink);\n",
              "      }\n",
              "    </script>\n",
              "  </div>\n",
              "\n",
              "\n",
              "<div id=\"df-5c6441c9-bbfe-485c-8ba9-c98888dcacc1\">\n",
              "  <button class=\"colab-df-quickchart\" onclick=\"quickchart('df-5c6441c9-bbfe-485c-8ba9-c98888dcacc1')\"\n",
              "            title=\"Suggest charts.\"\n",
              "            style=\"display:none;\">\n",
              "\n",
              "<svg xmlns=\"http://www.w3.org/2000/svg\" height=\"24px\"viewBox=\"0 0 24 24\"\n",
              "     width=\"24px\">\n",
              "    <g>\n",
              "        <path d=\"M19 3H5c-1.1 0-2 .9-2 2v14c0 1.1.9 2 2 2h14c1.1 0 2-.9 2-2V5c0-1.1-.9-2-2-2zM9 17H7v-7h2v7zm4 0h-2V7h2v10zm4 0h-2v-4h2v4z\"/>\n",
              "    </g>\n",
              "</svg>\n",
              "  </button>\n",
              "\n",
              "<style>\n",
              "  .colab-df-quickchart {\n",
              "      --bg-color: #E8F0FE;\n",
              "      --fill-color: #1967D2;\n",
              "      --hover-bg-color: #E2EBFA;\n",
              "      --hover-fill-color: #174EA6;\n",
              "      --disabled-fill-color: #AAA;\n",
              "      --disabled-bg-color: #DDD;\n",
              "  }\n",
              "\n",
              "  [theme=dark] .colab-df-quickchart {\n",
              "      --bg-color: #3B4455;\n",
              "      --fill-color: #D2E3FC;\n",
              "      --hover-bg-color: #434B5C;\n",
              "      --hover-fill-color: #FFFFFF;\n",
              "      --disabled-bg-color: #3B4455;\n",
              "      --disabled-fill-color: #666;\n",
              "  }\n",
              "\n",
              "  .colab-df-quickchart {\n",
              "    background-color: var(--bg-color);\n",
              "    border: none;\n",
              "    border-radius: 50%;\n",
              "    cursor: pointer;\n",
              "    display: none;\n",
              "    fill: var(--fill-color);\n",
              "    height: 32px;\n",
              "    padding: 0;\n",
              "    width: 32px;\n",
              "  }\n",
              "\n",
              "  .colab-df-quickchart:hover {\n",
              "    background-color: var(--hover-bg-color);\n",
              "    box-shadow: 0 1px 2px rgba(60, 64, 67, 0.3), 0 1px 3px 1px rgba(60, 64, 67, 0.15);\n",
              "    fill: var(--button-hover-fill-color);\n",
              "  }\n",
              "\n",
              "  .colab-df-quickchart-complete:disabled,\n",
              "  .colab-df-quickchart-complete:disabled:hover {\n",
              "    background-color: var(--disabled-bg-color);\n",
              "    fill: var(--disabled-fill-color);\n",
              "    box-shadow: none;\n",
              "  }\n",
              "\n",
              "  .colab-df-spinner {\n",
              "    border: 2px solid var(--fill-color);\n",
              "    border-color: transparent;\n",
              "    border-bottom-color: var(--fill-color);\n",
              "    animation:\n",
              "      spin 1s steps(1) infinite;\n",
              "  }\n",
              "\n",
              "  @keyframes spin {\n",
              "    0% {\n",
              "      border-color: transparent;\n",
              "      border-bottom-color: var(--fill-color);\n",
              "      border-left-color: var(--fill-color);\n",
              "    }\n",
              "    20% {\n",
              "      border-color: transparent;\n",
              "      border-left-color: var(--fill-color);\n",
              "      border-top-color: var(--fill-color);\n",
              "    }\n",
              "    30% {\n",
              "      border-color: transparent;\n",
              "      border-left-color: var(--fill-color);\n",
              "      border-top-color: var(--fill-color);\n",
              "      border-right-color: var(--fill-color);\n",
              "    }\n",
              "    40% {\n",
              "      border-color: transparent;\n",
              "      border-right-color: var(--fill-color);\n",
              "      border-top-color: var(--fill-color);\n",
              "    }\n",
              "    60% {\n",
              "      border-color: transparent;\n",
              "      border-right-color: var(--fill-color);\n",
              "    }\n",
              "    80% {\n",
              "      border-color: transparent;\n",
              "      border-right-color: var(--fill-color);\n",
              "      border-bottom-color: var(--fill-color);\n",
              "    }\n",
              "    90% {\n",
              "      border-color: transparent;\n",
              "      border-bottom-color: var(--fill-color);\n",
              "    }\n",
              "  }\n",
              "</style>\n",
              "\n",
              "  <script>\n",
              "    async function quickchart(key) {\n",
              "      const quickchartButtonEl =\n",
              "        document.querySelector('#' + key + ' button');\n",
              "      quickchartButtonEl.disabled = true;  // To prevent multiple clicks.\n",
              "      quickchartButtonEl.classList.add('colab-df-spinner');\n",
              "      try {\n",
              "        const charts = await google.colab.kernel.invokeFunction(\n",
              "            'suggestCharts', [key], {});\n",
              "      } catch (error) {\n",
              "        console.error('Error during call to suggestCharts:', error);\n",
              "      }\n",
              "      quickchartButtonEl.classList.remove('colab-df-spinner');\n",
              "      quickchartButtonEl.classList.add('colab-df-quickchart-complete');\n",
              "    }\n",
              "    (() => {\n",
              "      let quickchartButtonEl =\n",
              "        document.querySelector('#df-5c6441c9-bbfe-485c-8ba9-c98888dcacc1 button');\n",
              "      quickchartButtonEl.style.display =\n",
              "        google.colab.kernel.accessAllowed ? 'block' : 'none';\n",
              "    })();\n",
              "  </script>\n",
              "</div>\n",
              "    </div>\n",
              "  </div>\n"
            ]
          },
          "metadata": {},
          "execution_count": 9
        }
      ]
    },
    {
      "cell_type": "markdown",
      "source": [
        "# <h1> <font color='red'>DESAFIO:</font> Verificar se a variável target está balanceada.\n",
        "\n",
        "Verifique se o conjunto de dados está balanceado. No caso do desbalanceamento, escolha um método para tratá-lo. O artigo “Lidando com o desbalanceamento de dados“ oferece informações a respeito das formas de trabalhar com dados desbalanceados."
      ],
      "metadata": {
        "id": "8nkagzeaLm-X"
      }
    },
    {
      "cell_type": "code",
      "source": [
        "import matplotlib.pyplot as plt\n",
        "import pandas as pd\n",
        "import random\n",
        "\n",
        "# Contagem das classes da variável 'Rotatividade'\n",
        "class_count = df['Churn'].value_counts().sort_index()\n",
        "\n",
        "# Plotando o gráfico de barras\n",
        "plt.bar(class_count.index, class_count.values, color=['blue', 'orange'], alpha=0.7)\n",
        "plt.xlabel('Classes CHURN')\n",
        "plt.ylabel('Contagem')\n",
        "plt.title('Distribuição da Variável CHURN')\n",
        "plt.xticks(class_count.index, ['Classe 0', 'Classe 1'])\n",
        "plt.show()\n"
      ],
      "metadata": {
        "colab": {
          "base_uri": "https://localhost:8080/",
          "height": 472
        },
        "id": "RsP-9JWyqn1t",
        "outputId": "c1b78251-eb4d-4a01-bbae-539029a5d2ac"
      },
      "execution_count": 10,
      "outputs": [
        {
          "output_type": "display_data",
          "data": {
            "text/plain": [
              "<Figure size 640x480 with 1 Axes>"
            ],
            "image/png": "[encoded data removed]"
          },
          "metadata": {}
        }
      ]
    },
    {
      "cell_type": "code",
      "source": [
        "df['Churn'].value_counts().sort_index()"
      ],
      "metadata": {
        "colab": {
          "base_uri": "https://localhost:8080/"
        },
        "id": "SAh4A8KLq1it",
        "outputId": "346b4861-9f44-4c3a-a1c8-0aa972bdea5d"
      },
      "execution_count": 11,
      "outputs": [
        {
          "output_type": "execute_result",
          "data": {
            "text/plain": [
              "0    3756\n",
              "1    1756\n",
              "Name: Churn, dtype: int64"
            ]
          },
          "metadata": {},
          "execution_count": 11
        }
      ]
    },
    {
      "cell_type": "code",
      "source": [
        "from imblearn.under_sampling import RandomUnderSampler\n",
        "import pandas as pd\n",
        "\n",
        "# Suponhamos que 'X' são suas características e 'y' são suas etiquetas (classes)\n",
        "X = df.drop('Churn', axis=1)\n",
        "y = df['Churn']\n",
        "\n",
        "# Instanciando o objeto RandomUnderSampler\n",
        "rus = RandomUnderSampler(random_state=42)\n",
        "\n",
        "# Aplicando o balanceamento\n",
        "X_resampled, y_resampled = rus.fit_resample(X, y)\n",
        "\n",
        "# Convertendo os dados balanceados de volta para um DataFrame, se necessário\n",
        "X_resampled = pd.DataFrame(X_resampled, columns=df.columns[:-1])\n",
        "y_resampled = pd.Series(y_resampled, name='Churn')\n",
        "\n",
        "# Cria um novo DataFrame com os dados balanceados.\n",
        "df_balanceado = pd.concat([X_resampled, y_resampled], axis=1)\n",
        "\n",
        "# Agora, 'X_resampled' e 'y_resampled' são suas características e etiquetas balanceadas.\n"
      ],
      "metadata": {
        "id": "R66eEJo3q6ga"
      },
      "execution_count": 12,
      "outputs": []
    },
    {
      "cell_type": "code",
      "source": [
        "import matplotlib.pyplot as plt\n",
        "import pandas as pd\n",
        "import random\n",
        "\n",
        "# Contagem das classes da variável 'Rotatividade'\n",
        "class_count = df_balanceado['Churn'].value_counts().sort_index()\n",
        "\n",
        "# Plotando o gráfico de barras\n",
        "plt.bar(class_count.index, class_count.values, color=['blue', 'orange'], alpha=0.7)\n",
        "plt.xlabel('Classes CHURN')\n",
        "plt.ylabel('Contagem')\n",
        "plt.title('Distribuição da Variável CHURN após balanceamento')\n",
        "plt.xticks(class_count.index, ['Classe 0', 'Classe 1'])\n",
        "plt.show()\n"
      ],
      "metadata": {
        "colab": {
          "base_uri": "https://localhost:8080/",
          "height": 472
        },
        "id": "_rTjMpoorJs7",
        "outputId": "10decfcb-5364-448f-e584-705956cec8ee"
      },
      "execution_count": 13,
      "outputs": [
        {
          "output_type": "display_data",
          "data": {
            "text/plain": [
              "<Figure size 640x480 with 1 Axes>"
            ],
            "image/png": "[encoded data removed]"
          },
          "metadata": {}
        }
      ]
    },
    {
      "cell_type": "markdown",
      "source": [
        "# <h1> <font color='blue'>EXTRA:</font> Qual métrica otimizar?\n",
        "\n",
        "Analise o problema que você está resolvendo e com base nos conteúdos aprendidos escolha a métrica de classificação ideal para ser otimizada.\n",
        "\n",
        "Recall"
      ],
      "metadata": {
        "id": "_K9vFaXJ6cqN"
      }
    },
    {
      "cell_type": "markdown",
      "source": [
        "# <h1> <font color='red'>DESAFIO:</font> Criar dois ou mais modelos de Machine Learning.\n",
        "\n",
        "Para melhorar o projeto é aconselhável que você implemente pelo menos dois modelos de machine learning e realize experimentações para avaliar qual modelo melhor se ajusta aos dados de acordo com as métricas de classificação. A fase de experimentação é crucial para o processo e pode te ajudar alcançar melhores resultados.\n",
        "\n",
        "Dica: que tal experimentar diferentes modelos com metodologias distintas? Por exemplo, modelos baseados em bagging e modelos que utilizam boosting. Dessa forma, você pode avaliar qual abordagem funciona melhor para o seu caso.\n",
        "\n",
        "Modelos:\n",
        "\n",
        "* Random Forest\n",
        "* XGBoost\n",
        "* Regressão Logística"
      ],
      "metadata": {
        "id": "9SFgNZHCL6nL"
      }
    },
    {
      "cell_type": "markdown",
      "source": [
        "##<h1>Analisando o desempenho dos modelos no conjunto de dados com todas as features"
      ],
      "metadata": {
        "id": "cvop_5Gv8uIk"
      }
    },
    {
      "cell_type": "code",
      "source": [
        "from sklearn.model_selection import train_test_split\n",
        "from sklearn.model_selection import cross_val_score\n",
        "from sklearn.ensemble import RandomForestClassifier\n",
        "from sklearn.dummy import DummyClassifier\n",
        "from sklearn.linear_model import LogisticRegression\n",
        "import xgboost as xgb\n",
        "\n",
        "df_completo = pd.read_csv('/content/df_completo.csv')\n",
        "\n",
        "# Suponhamos que 'X' são suas características e 'y' são suas etiquetas (classes)\n",
        "X = df_completo.drop('Churn', axis=1)\n",
        "y = df_completo['Churn']\n",
        "\n",
        "# Criar os objetos de classificação\n",
        "clf_rf = RandomForestClassifier(n_estimators=100, random_state=42)\n",
        "clf_xgb = xgb.XGBClassifier(n_estimators=100, random_state=42, eval_metric='logloss')\n",
        "clf_lr = LogisticRegression(max_iter=1000, random_state=42)\n",
        "\n",
        "# Executar validação cruzada no conjunto de dados de treinamento\n",
        "scores_rf_completo = cross_val_score(clf_rf, X, y, cv=5, scoring='recall')\n",
        "scores_xgb_completo = cross_val_score(clf_xgb, X, y, cv=5, scoring='recall')\n",
        "scores_lr_completo = cross_val_score(clf_lr, X, y, cv=5, scoring='recall')"
      ],
      "metadata": {
        "id": "d8qU7zxmlSDS"
      },
      "execution_count": 14,
      "outputs": []
    },
    {
      "cell_type": "code",
      "source": [
        "print(\"Recall obtido em cada iteração da validação cruzada com Random Forest:\", scores_rf_completo)\n",
        "print(\"Recall médio na validação cruzada com Random Forest:\", scores_rf_completo.mean())"
      ],
      "metadata": {
        "colab": {
          "base_uri": "https://localhost:8080/"
        },
        "id": "3P6sQift_nNs",
        "outputId": "16f3ce74-297c-4153-b63e-c2ef0d23f1a9"
      },
      "execution_count": 15,
      "outputs": [
        {
          "output_type": "stream",
          "name": "stdout",
          "text": [
            "Recall obtido em cada iteração da validação cruzada com Random Forest: [0.48717949 0.47727273 0.5014245  0.52136752 0.51851852]\n",
            "Recall médio na validação cruzada com Random Forest: 0.5011525511525512\n"
          ]
        }
      ]
    },
    {
      "cell_type": "code",
      "source": [
        "print(\"Recall obtido em cada iteração da validação cruzada com XGBoost:\", scores_xgb_completo)\n",
        "print(\"Recall médio na validação cruzada com XGBoost:\", scores_xgb_completo.mean())"
      ],
      "metadata": {
        "colab": {
          "base_uri": "https://localhost:8080/"
        },
        "id": "pK1EFZS3_pKH",
        "outputId": "3411792d-24b5-4c1b-8be7-2960061086f9"
      },
      "execution_count": 16,
      "outputs": [
        {
          "output_type": "stream",
          "name": "stdout",
          "text": [
            "Recall obtido em cada iteração da validação cruzada com XGBoost: [0.54415954 0.50284091 0.57264957 0.54415954 0.55840456]\n",
            "Recall médio na validação cruzada com XGBoost: 0.5444428256928256\n"
          ]
        }
      ]
    },
    {
      "cell_type": "code",
      "source": [
        "print(\"Recall obtido em cada iteração da validação cruzada com Regressão Logística:\", scores_lr_completo)\n",
        "print(\"Recall médio na validação cruzada com Regressão Logística:\", scores_lr_completo.mean())"
      ],
      "metadata": {
        "colab": {
          "base_uri": "https://localhost:8080/"
        },
        "id": "yjPvcF0W_rPp",
        "outputId": "b4205f54-69bf-4978-bd5f-fe87844776d1"
      },
      "execution_count": 17,
      "outputs": [
        {
          "output_type": "stream",
          "name": "stdout",
          "text": [
            "Recall obtido em cada iteração da validação cruzada com Regressão Logística: [0.53846154 0.53693182 0.54700855 0.56125356 0.58974359]\n",
            "Recall médio na validação cruzada com Regressão Logística: 0.554679810929811\n"
          ]
        }
      ]
    },
    {
      "cell_type": "markdown",
      "source": [
        "##<h1>Analisando o desempenho dos modelos no conjunto de dados com as features selecionadas pelo método Chi2, mas com os dados desbalanceados."
      ],
      "metadata": {
        "id": "OcEpcJY3B4Vr"
      }
    },
    {
      "cell_type": "code",
      "source": [
        "from sklearn.model_selection import train_test_split\n",
        "from sklearn.model_selection import cross_val_score\n",
        "from sklearn.ensemble import RandomForestClassifier\n",
        "from sklearn.dummy import DummyClassifier\n",
        "from sklearn.linear_model import LogisticRegression\n",
        "import xgboost as xgb\n",
        "\n",
        "# Suponhamos que 'X' são suas características e 'y' são suas etiquetas (classes)\n",
        "X = df.drop('Churn', axis=1)\n",
        "y = df['Churn']\n",
        "\n",
        "# Criar os objetos de classificação\n",
        "clf_rf = RandomForestClassifier(n_estimators=100, random_state=42)\n",
        "clf_xgb = xgb.XGBClassifier(n_estimators=100, random_state=42, eval_metric='logloss')\n",
        "clf_lr = LogisticRegression(max_iter=1000, random_state=42)\n",
        "\n",
        "# Executar validação cruzada no conjunto de dados de treinamento\n",
        "scores_rf_desb = cross_val_score(clf_rf, X, y, cv=5, scoring='recall')\n",
        "scores_xgb_desb = cross_val_score(clf_xgb, X, y, cv=5, scoring='recall')\n",
        "scores_lr_desb = cross_val_score(clf_lr, X, y, cv=5, scoring='recall')"
      ],
      "metadata": {
        "id": "e6EswyL6CBLQ"
      },
      "execution_count": 18,
      "outputs": []
    },
    {
      "cell_type": "code",
      "source": [
        "print(\"Recall obtido em cada iteração da validação cruzada com Random Forest:\", scores_rf_desb)\n",
        "print(\"Recall médio na validação cruzada com Random Forest:\", scores_rf_desb.mean())"
      ],
      "metadata": {
        "colab": {
          "base_uri": "https://localhost:8080/"
        },
        "id": "VowlQwP2CLV4",
        "outputId": "973e71ea-5771-4666-86f4-3b69e8ef6a03"
      },
      "execution_count": 19,
      "outputs": [
        {
          "output_type": "stream",
          "name": "stdout",
          "text": [
            "Recall obtido em cada iteração da validação cruzada com Random Forest: [0.33618234 0.33238636 0.37321937 0.33903134 0.34472934]\n",
            "Recall médio na validação cruzada com Random Forest: 0.34510975135975136\n"
          ]
        }
      ]
    },
    {
      "cell_type": "code",
      "source": [
        "print(\"Recall obtido em cada iteração da validação cruzada com XGBoost:\", scores_xgb_desb)\n",
        "print(\"Recall médio na validação cruzada com XGBoost:\", scores_xgb_desb.mean())"
      ],
      "metadata": {
        "colab": {
          "base_uri": "https://localhost:8080/"
        },
        "id": "5RGcTHemCN8B",
        "outputId": "6a33e894-59e6-4961-838d-6fe7b9ac1c0e"
      },
      "execution_count": 20,
      "outputs": [
        {
          "output_type": "stream",
          "name": "stdout",
          "text": [
            "Recall obtido em cada iteração da validação cruzada com XGBoost: [0.33618234 0.33238636 0.37321937 0.33903134 0.34472934]\n",
            "Recall médio na validação cruzada com XGBoost: 0.34510975135975136\n"
          ]
        }
      ]
    },
    {
      "cell_type": "code",
      "source": [
        "print(\"Recall obtido em cada iteração da validação cruzada com Regressão Logística:\", scores_lr_desb)\n",
        "print(\"Recall médio na validação cruzada com Regressão Logística:\", scores_lr_desb.mean())"
      ],
      "metadata": {
        "colab": {
          "base_uri": "https://localhost:8080/"
        },
        "id": "UwbWfMEACP6R",
        "outputId": "d82f6195-04e7-4e98-f05b-50cf88c4bccb"
      },
      "execution_count": 21,
      "outputs": [
        {
          "output_type": "stream",
          "name": "stdout",
          "text": [
            "Recall obtido em cada iteração da validação cruzada com Regressão Logística: [0.33618234 0.33238636 0.37321937 0.33903134 0.34472934]\n",
            "Recall médio na validação cruzada com Regressão Logística: 0.34510975135975136\n"
          ]
        }
      ]
    },
    {
      "cell_type": "markdown",
      "source": [
        "##<h1>Analisando o desempenho dos modelos no conjunto de dados com as features selecionadas pelo método Chi2 e com os dados balanceados."
      ],
      "metadata": {
        "id": "QAo_S-sDCZpL"
      }
    },
    {
      "cell_type": "code",
      "source": [
        "from sklearn.model_selection import train_test_split\n",
        "from sklearn.model_selection import cross_val_score\n",
        "from sklearn.ensemble import RandomForestClassifier\n",
        "from sklearn.dummy import DummyClassifier\n",
        "from sklearn.linear_model import LogisticRegression\n",
        "import xgboost as xgb\n",
        "\n",
        "# Suponhamos que 'X' são suas características e 'y' são suas etiquetas (classes)\n",
        "X = df_balanceado.drop('Churn', axis=1)\n",
        "y = df_balanceado['Churn']\n",
        "\n",
        "# Criar os objetos de classificação\n",
        "clf_rf = RandomForestClassifier(n_estimators=100, random_state=42)\n",
        "clf_xgb = xgb.XGBClassifier(n_estimators=100, random_state=42, eval_metric='logloss')\n",
        "clf_lr = LogisticRegression(max_iter=1000, random_state=42)\n",
        "\n",
        "# Executar validação cruzada no conjunto de dados de treinamento\n",
        "scores_rf_bal = cross_val_score(clf_rf, X, y, cv=5, scoring='recall')\n",
        "scores_xgb_bal = cross_val_score(clf_xgb, X, y, cv=5, scoring='recall')\n",
        "scores_lr_bal = cross_val_score(clf_lr, X, y, cv=5, scoring='recall')"
      ],
      "metadata": {
        "id": "9fmGQYogCfJz"
      },
      "execution_count": 22,
      "outputs": []
    },
    {
      "cell_type": "code",
      "source": [
        "print(\"Recall obtido em cada iteração da validação cruzada com Random Forest:\", scores_rf_bal)\n",
        "print(\"Recall médio na validação cruzada com Random Forest:\", scores_rf_bal.mean())"
      ],
      "metadata": {
        "colab": {
          "base_uri": "https://localhost:8080/"
        },
        "id": "58Lo-cjFCZKh",
        "outputId": "82abcc94-cfa6-4acb-a028-323fd8a3fc43"
      },
      "execution_count": 23,
      "outputs": [
        {
          "output_type": "stream",
          "name": "stdout",
          "text": [
            "Recall obtido em cada iteração da validação cruzada com Random Forest: [0.89458689 0.84943182 0.9002849  0.88034188 0.90598291]\n",
            "Recall médio na validação cruzada com Random Forest: 0.8861256798756798\n"
          ]
        }
      ]
    },
    {
      "cell_type": "code",
      "source": [
        "print(\"Recall obtido em cada iteração da validação cruzada com XGBoost:\", scores_xgb_bal)\n",
        "print(\"Recall médio na validação cruzada com XGBoost:\", scores_xgb_bal.mean())"
      ],
      "metadata": {
        "colab": {
          "base_uri": "https://localhost:8080/"
        },
        "id": "24ur9YiWCmGE",
        "outputId": "f2502b43-f227-482d-fbeb-77ab9630b017"
      },
      "execution_count": 24,
      "outputs": [
        {
          "output_type": "stream",
          "name": "stdout",
          "text": [
            "Recall obtido em cada iteração da validação cruzada com XGBoost: [0.89458689 0.84943182 0.9002849  0.88034188 0.90598291]\n",
            "Recall médio na validação cruzada com XGBoost: 0.8861256798756798\n"
          ]
        }
      ]
    },
    {
      "cell_type": "code",
      "source": [
        "print(\"Recall obtido em cada iteração da validação cruzada com Regressão Logística:\", scores_lr_bal)\n",
        "print(\"Recall médio na validação cruzada com Regressão Logística:\", scores_lr_bal.mean())"
      ],
      "metadata": {
        "colab": {
          "base_uri": "https://localhost:8080/"
        },
        "id": "7o58-mwJCmDK",
        "outputId": "36614a0b-b92f-4cb0-b567-565aa50757a5"
      },
      "execution_count": 25,
      "outputs": [
        {
          "output_type": "stream",
          "name": "stdout",
          "text": [
            "Recall obtido em cada iteração da validação cruzada com Regressão Logística: [0.89458689 0.84943182 0.9002849  0.88034188 0.90598291]\n",
            "Recall médio na validação cruzada com Regressão Logística: 0.8861256798756798\n"
          ]
        }
      ]
    },
    {
      "cell_type": "markdown",
      "source": [
        "#<h1>Comparando resultados"
      ],
      "metadata": {
        "id": "Lm-ULgLoIUi-"
      }
    },
    {
      "cell_type": "code",
      "source": [
        "import matplotlib.pyplot as plt\n",
        "import numpy as np\n",
        "\n",
        "# Armazenar os resultados em uma lista\n",
        "resultados = [scores_rf_bal, scores_xgb_bal, scores_lr_bal, scores_rf_desb, scores_xgb_desb, scores_lr_desb, scores_rf_completo, scores_xgb_completo, scores_lr_completo]\n",
        "\n",
        "# Calcular a média dos resultados para cada modelo\n",
        "medias = [np.mean(scores) for scores in resultados]\n",
        "\n",
        "# Rótulos para os modelos\n",
        "modelos = ['Random Forest (Balanceado)', 'XGBoost (Balanceado)', 'Regressão Logística (Balanceado)',\n",
        "           'Random Forest (Desbalanceado)', 'XGBoost (Desbalanceado)', 'Regressão Logística (Desbalanceado)',\n",
        "           'Random Forest (Completo)', 'XGBoost (Completo)', 'Regressão Logística (Completo)']\n",
        "\n",
        "# Ordenar os resultados do maior para o menor e os rótulos correspondentes\n",
        "medias_ordenadas, modelos_ordenados = zip(*sorted(zip(medias, modelos), reverse=True))\n",
        "\n",
        "# Criar o gráfico de barras ordenado\n",
        "plt.figure(figsize=(14, 7))\n",
        "plt.barh(modelos_ordenados, medias_ordenadas, color='skyblue')\n",
        "plt.xlabel('Média dos Escores')\n",
        "plt.title('Desempenho dos Modelos (Ordenado)')\n",
        "\n",
        "# Adicionar rótulos de texto nas barras\n",
        "for index, value in enumerate(medias_ordenadas):\n",
        "    plt.text(value, index, f'{value:.4f}')\n",
        "\n",
        "plt.show()"
      ],
      "metadata": {
        "colab": {
          "base_uri": "https://localhost:8080/",
          "height": 641
        },
        "id": "XtSKALq8HP0c",
        "outputId": "112afc8e-9e84-4bbb-d89b-bb787cbd25e1"
      },
      "execution_count": 31,
      "outputs": [
        {
          "output_type": "display_data",
          "data": {
            "text/plain": [
              "<Figure size 1400x700 with 1 Axes>"
            ],
            "image/png": "[encoded data removed]"
          },
          "metadata": {}
        }
      ]
    },
    {
      "cell_type": "markdown",
      "source": [
        "# <h1> <font color='red'>DESAFIO:</font> Escolher o melhor modelo\n",
        "\n",
        "Para escolher o melhor modelo dentre os experimentados, é necessário realizar uma análise criteriosa das métricas recebidas por cada um. É importante avaliar cuidadosamente qual métrica é a mais adequada para o problema que está sendo resolvido, a fim de determinar qual modelo é o mais indicado."
      ],
      "metadata": {
        "id": "_Dzdyasc6Ehv"
      }
    },
    {
      "cell_type": "markdown",
      "source": [
        "Os 3 modelos tiveram um resultado excelente no conjunto de dados balanceado."
      ],
      "metadata": {
        "id": "ZUj0hGv18ypy"
      }
    },
    {
      "cell_type": "markdown",
      "source": [
        "# <h1> <font color='red'>DESAFIO:</font> Otimizar o melhor modelo!\n",
        "\n",
        "Ótimo, você já possui um modelo de machine learning! Para melhorá-lo ainda mais, sugiro que faça a otimização dos hiperparâmetros do modelo. Isso pode ajudar a maximizar o desempenho e a precisão do seu modelo."
      ],
      "metadata": {
        "id": "I1QLWnW36zEu"
      }
    },
    {
      "cell_type": "code",
      "source": [
        "from sklearn.model_selection import GridSearchCV\n",
        "\n",
        "# Suponhamos que 'X' são suas características e 'y' são suas etiquetas (classes)\n",
        "X = df_balanceado.drop('Churn', axis=1)\n",
        "y = df_balanceado['Churn']\n",
        "\n",
        "# Parâmetros que você gostaria de otimizar para cada modelo\n",
        "param_grid_rf = {\n",
        "    'n_estimators': [50, 100, 200],\n",
        "    'max_depth': [None, 10, 20, 30],\n",
        "    'min_samples_split': [2, 5, 10]\n",
        "}\n",
        "\n",
        "param_grid_xgb = {\n",
        "    'n_estimators': [50, 100, 200],\n",
        "    'learning_rate': [0.01, 0.1, 0.2],\n",
        "    'max_depth': [3, 4, 5]\n",
        "}\n",
        "\n",
        "param_grid_lr = {\n",
        "    'C': [0.001, 0.01, 0.1, 1, 10],\n",
        "    'penalty': ['l1', 'l2'],\n",
        "    'solver': ['newton-cg', 'lbfgs', 'liblinear']\n",
        "}\n",
        "\n",
        "# Criar os objetos GridSearchCV\n",
        "grid_search_rf = GridSearchCV(estimator=clf_rf, param_grid=param_grid_rf,\n",
        "                              cv=5, scoring='recall', n_jobs=-1, verbose=2)\n",
        "\n",
        "grid_search_xgb = GridSearchCV(estimator=clf_xgb, param_grid=param_grid_xgb,\n",
        "                               cv=5, scoring='recall', n_jobs=-1, verbose=2)\n",
        "\n",
        "grid_search_lr = GridSearchCV(estimator=clf_lr, param_grid=param_grid_lr,\n",
        "                              cv=5, scoring='recall', n_jobs=-1, verbose=2)\n"
      ],
      "metadata": {
        "id": "3HQcKeEe_rLn"
      },
      "execution_count": 40,
      "outputs": []
    },
    {
      "cell_type": "markdown",
      "source": [
        "Hiperparâmetros Random Forest"
      ],
      "metadata": {
        "id": "47tyhcC8BIyc"
      }
    },
    {
      "cell_type": "code",
      "source": [
        "# Treinar o modelo RandomForest com GridSearchCV\n",
        "grid_search_rf.fit(X, y)"
      ],
      "metadata": {
        "colab": {
          "base_uri": "https://localhost:8080/",
          "height": 135
        },
        "id": "PHQUtfiKAZH0",
        "outputId": "73e3c434-477a-426a-b53b-b97b416e4556"
      },
      "execution_count": 41,
      "outputs": [
        {
          "output_type": "stream",
          "name": "stdout",
          "text": [
            "Fitting 5 folds for each of 36 candidates, totalling 180 fits\n"
          ]
        },
        {
          "output_type": "execute_result",
          "data": {
            "text/plain": [
              "GridSearchCV(cv=5, estimator=RandomForestClassifier(random_state=42), n_jobs=-1,\n",
              "             param_grid={'max_depth': [None, 10, 20, 30],\n",
              "                         'min_samples_split': [2, 5, 10],\n",
              "                         'n_estimators': [50, 100, 200]},\n",
              "             scoring='recall', verbose=2)"
            ],
            "text/html": [
              "<style>#sk-container-id-2 {color: black;background-color: white;}#sk-container-id-2 pre{padding: 0;}#sk-container-id-2 div.sk-toggleable {background-color: white;}#sk-container-id-2 label.sk-toggleable__label {cursor: pointer;display: block;width: 100%;margin-bottom: 0;padding: 0.3em;box-sizing: border-box;text-align: center;}#sk-container-id-2 label.sk-toggleable__label-arrow:before {content: \"▸\";float: left;margin-right: 0.25em;color: #696969;}#sk-container-id-2 label.sk-toggleable__label-arrow:hover:before {color: black;}#sk-container-id-2 div.sk-estimator:hover label.sk-toggleable__label-arrow:before {color: black;}#sk-container-id-2 div.sk-toggleable__content {max-height: 0;max-width: 0;overflow: hidden;text-align: left;background-color: #f0f8ff;}#sk-container-id-2 div.sk-toggleable__content pre {margin: 0.2em;color: black;border-radius: 0.25em;background-color: #f0f8ff;}#sk-container-id-2 input.sk-toggleable__control:checked~div.sk-toggleable__content {max-height: 200px;max-width: 100%;overflow: auto;}#sk-container-id-2 input.sk-toggleable__control:checked~label.sk-toggleable__label-arrow:before {content: \"▾\";}#sk-container-id-2 div.sk-estimator input.sk-toggleable__control:checked~label.sk-toggleable__label {background-color: #d4ebff;}#sk-container-id-2 div.sk-label input.sk-toggleable__control:checked~label.sk-toggleable__label {background-color: #d4ebff;}#sk-container-id-2 input.sk-hidden--visually {border: 0;clip: rect(1px 1px 1px 1px);clip: rect(1px, 1px, 1px, 1px);height: 1px;margin: -1px;overflow: hidden;padding: 0;position: absolute;width: 1px;}#sk-container-id-2 div.sk-estimator {font-family: monospace;background-color: #f0f8ff;border: 1px dotted black;border-radius: 0.25em;box-sizing: border-box;margin-bottom: 0.5em;}#sk-container-id-2 div.sk-estimator:hover {background-color: #d4ebff;}#sk-container-id-2 div.sk-parallel-item::after {content: \"\";width: 100%;border-bottom: 1px solid gray;flex-grow: 1;}#sk-container-id-2 div.sk-label:hover label.sk-toggleable__label {background-color: #d4ebff;}#sk-container-id-2 div.sk-serial::before {content: \"\";position: absolute;border-left: 1px solid gray;box-sizing: border-box;top: 0;bottom: 0;left: 50%;z-index: 0;}#sk-container-id-2 div.sk-serial {display: flex;flex-direction: column;align-items: center;background-color: white;padding-right: 0.2em;padding-left: 0.2em;position: relative;}#sk-container-id-2 div.sk-item {position: relative;z-index: 1;}#sk-container-id-2 div.sk-parallel {display: flex;align-items: stretch;justify-content: center;background-color: white;position: relative;}#sk-container-id-2 div.sk-item::before, #sk-container-id-2 div.sk-parallel-item::before {content: \"\";position: absolute;border-left: 1px solid gray;box-sizing: border-box;top: 0;bottom: 0;left: 50%;z-index: -1;}#sk-container-id-2 div.sk-parallel-item {display: flex;flex-direction: column;z-index: 1;position: relative;background-color: white;}#sk-container-id-2 div.sk-parallel-item:first-child::after {align-self: flex-end;width: 50%;}#sk-container-id-2 div.sk-parallel-item:last-child::after {align-self: flex-start;width: 50%;}#sk-container-id-2 div.sk-parallel-item:only-child::after {width: 0;}#sk-container-id-2 div.sk-dashed-wrapped {border: 1px dashed gray;margin: 0 0.4em 0.5em 0.4em;box-sizing: border-box;padding-bottom: 0.4em;background-color: white;}#sk-container-id-2 div.sk-label label {font-family: monospace;font-weight: bold;display: inline-block;line-height: 1.2em;}#sk-container-id-2 div.sk-label-container {text-align: center;}#sk-container-id-2 div.sk-container {/* jupyter's `normalize.less` sets `[hidden] { display: none; }` but bootstrap.min.css set `[hidden] { display: none !important; }` so we also need the `!important` here to be able to override the default hidden behavior on the sphinx rendered scikit-learn.org. See: https://github.com/scikit-learn/scikit-learn/issues/21755 */display: inline-block !important;position: relative;}#sk-container-id-2 div.sk-text-repr-fallback {display: none;}</style><div id=\"sk-container-id-2\" class=\"sk-top-container\"><div class=\"sk-text-repr-fallback\"><pre>GridSearchCV(cv=5, estimator=RandomForestClassifier(random_state=42), n_jobs=-1,\n",
              "             param_grid={&#x27;max_depth&#x27;: [None, 10, 20, 30],\n",
              "                         &#x27;min_samples_split&#x27;: [2, 5, 10],\n",
              "                         &#x27;n_estimators&#x27;: [50, 100, 200]},\n",
              "             scoring=&#x27;recall&#x27;, verbose=2)</pre><b>In a Jupyter environment, please rerun this cell to show the HTML representation or trust the notebook. <br />On GitHub, the HTML representation is unable to render, please try loading this page with nbviewer.org.</b></div><div class=\"sk-container\" hidden><div class=\"sk-item sk-dashed-wrapped\"><div class=\"sk-label-container\"><div class=\"sk-label sk-toggleable\"><input class=\"sk-toggleable__control sk-hidden--visually\" id=\"sk-estimator-id-4\" type=\"checkbox\" ><label for=\"sk-estimator-id-4\" class=\"sk-toggleable__label sk-toggleable__label-arrow\">GridSearchCV</label><div class=\"sk-toggleable__content\"><pre>GridSearchCV(cv=5, estimator=RandomForestClassifier(random_state=42), n_jobs=-1,\n",
              "             param_grid={&#x27;max_depth&#x27;: [None, 10, 20, 30],\n",
              "                         &#x27;min_samples_split&#x27;: [2, 5, 10],\n",
              "                         &#x27;n_estimators&#x27;: [50, 100, 200]},\n",
              "             scoring=&#x27;recall&#x27;, verbose=2)</pre></div></div></div><div class=\"sk-parallel\"><div class=\"sk-parallel-item\"><div class=\"sk-item\"><div class=\"sk-label-container\"><div class=\"sk-label sk-toggleable\"><input class=\"sk-toggleable__control sk-hidden--visually\" id=\"sk-estimator-id-5\" type=\"checkbox\" ><label for=\"sk-estimator-id-5\" class=\"sk-toggleable__label sk-toggleable__label-arrow\">estimator: RandomForestClassifier</label><div class=\"sk-toggleable__content\"><pre>RandomForestClassifier(random_state=42)</pre></div></div></div><div class=\"sk-serial\"><div class=\"sk-item\"><div class=\"sk-estimator sk-toggleable\"><input class=\"sk-toggleable__control sk-hidden--visually\" id=\"sk-estimator-id-6\" type=\"checkbox\" ><label for=\"sk-estimator-id-6\" class=\"sk-toggleable__label sk-toggleable__label-arrow\">RandomForestClassifier</label><div class=\"sk-toggleable__content\"><pre>RandomForestClassifier(random_state=42)</pre></div></div></div></div></div></div></div></div></div></div>"
            ]
          },
          "metadata": {},
          "execution_count": 41
        }
      ]
    },
    {
      "cell_type": "code",
      "source": [
        "# Para o modelo Random Forest\n",
        "best_params_rf = grid_search_rf.best_params_\n",
        "best_score_rf = grid_search_rf.best_score_"
      ],
      "metadata": {
        "id": "Ssp6TiQ1AZEQ"
      },
      "execution_count": 42,
      "outputs": []
    },
    {
      "cell_type": "code",
      "source": [
        "print(best_params_rf)\n",
        "print(best_score_rf)"
      ],
      "metadata": {
        "colab": {
          "base_uri": "https://localhost:8080/"
        },
        "id": "1LZAOTeFAY5I",
        "outputId": "84f4c727-47c6-4a3c-9fc1-7990df826ae4"
      },
      "execution_count": 43,
      "outputs": [
        {
          "output_type": "stream",
          "name": "stdout",
          "text": [
            "{'max_depth': None, 'min_samples_split': 2, 'n_estimators': 50}\n",
            "0.8861256798756798\n"
          ]
        }
      ]
    },
    {
      "cell_type": "markdown",
      "source": [
        "Hiperparâmetros XGBoost"
      ],
      "metadata": {
        "id": "EU_qhsO2BNGw"
      }
    },
    {
      "cell_type": "code",
      "source": [
        "# Treinar o modelo XGBoost com GridSearchCV\n",
        "grid_search_xgb.fit(X, y)"
      ],
      "metadata": {
        "colab": {
          "base_uri": "https://localhost:8080/",
          "height": 135
        },
        "id": "05tw3WcwBSn2",
        "outputId": "2eca69bf-063e-4778-8371-2d7fc7d34496"
      },
      "execution_count": 44,
      "outputs": [
        {
          "output_type": "stream",
          "name": "stdout",
          "text": [
            "Fitting 5 folds for each of 27 candidates, totalling 135 fits\n"
          ]
        },
        {
          "output_type": "execute_result",
          "data": {
            "text/plain": [
              "GridSearchCV(cv=5,\n",
              "             estimator=XGBClassifier(base_score=None, booster=None,\n",
              "                                     callbacks=None, colsample_bylevel=None,\n",
              "                                     colsample_bynode=None,\n",
              "                                     colsample_bytree=None,\n",
              "                                     early_stopping_rounds=None,\n",
              "                                     enable_categorical=False,\n",
              "                                     eval_metric='logloss', feature_types=None,\n",
              "                                     gamma=None, gpu_id=None, grow_policy=None,\n",
              "                                     importance_type=None,\n",
              "                                     interaction_constraints=None,\n",
              "                                     learning_rate=...\n",
              "                                     max_cat_to_onehot=None,\n",
              "                                     max_delta_step=None, max_depth=None,\n",
              "                                     max_leaves=None, min_child_weight=None,\n",
              "                                     missing=nan, monotone_constraints=None,\n",
              "                                     n_estimators=100, n_jobs=None,\n",
              "                                     num_parallel_tree=None, predictor=None,\n",
              "                                     random_state=42, ...),\n",
              "             n_jobs=-1,\n",
              "             param_grid={'learning_rate': [0.01, 0.1, 0.2],\n",
              "                         'max_depth': [3, 4, 5],\n",
              "                         'n_estimators': [50, 100, 200]},\n",
              "             scoring='recall', verbose=2)"
            ],
            "text/html": [
              "<style>#sk-container-id-3 {color: black;background-color: white;}#sk-container-id-3 pre{padding: 0;}#sk-container-id-3 div.sk-toggleable {background-color: white;}#sk-container-id-3 label.sk-toggleable__label {cursor: pointer;display: block;width: 100%;margin-bottom: 0;padding: 0.3em;box-sizing: border-box;text-align: center;}#sk-container-id-3 label.sk-toggleable__label-arrow:before {content: \"▸\";float: left;margin-right: 0.25em;color: #696969;}#sk-container-id-3 label.sk-toggleable__label-arrow:hover:before {color: black;}#sk-container-id-3 div.sk-estimator:hover label.sk-toggleable__label-arrow:before {color: black;}#sk-container-id-3 div.sk-toggleable__content {max-height: 0;max-width: 0;overflow: hidden;text-align: left;background-color: #f0f8ff;}#sk-container-id-3 div.sk-toggleable__content pre {margin: 0.2em;color: black;border-radius: 0.25em;background-color: #f0f8ff;}#sk-container-id-3 input.sk-toggleable__control:checked~div.sk-toggleable__content {max-height: 200px;max-width: 100%;overflow: auto;}#sk-container-id-3 input.sk-toggleable__control:checked~label.sk-toggleable__label-arrow:before {content: \"▾\";}#sk-container-id-3 div.sk-estimator input.sk-toggleable__control:checked~label.sk-toggleable__label {background-color: #d4ebff;}#sk-container-id-3 div.sk-label input.sk-toggleable__control:checked~label.sk-toggleable__label {background-color: #d4ebff;}#sk-container-id-3 input.sk-hidden--visually {border: 0;clip: rect(1px 1px 1px 1px);clip: rect(1px, 1px, 1px, 1px);height: 1px;margin: -1px;overflow: hidden;padding: 0;position: absolute;width: 1px;}#sk-container-id-3 div.sk-estimator {font-family: monospace;background-color: #f0f8ff;border: 1px dotted black;border-radius: 0.25em;box-sizing: border-box;margin-bottom: 0.5em;}#sk-container-id-3 div.sk-estimator:hover {background-color: #d4ebff;}#sk-container-id-3 div.sk-parallel-item::after {content: \"\";width: 100%;border-bottom: 1px solid gray;flex-grow: 1;}#sk-container-id-3 div.sk-label:hover label.sk-toggleable__label {background-color: #d4ebff;}#sk-container-id-3 div.sk-serial::before {content: \"\";position: absolute;border-left: 1px solid gray;box-sizing: border-box;top: 0;bottom: 0;left: 50%;z-index: 0;}#sk-container-id-3 div.sk-serial {display: flex;flex-direction: column;align-items: center;background-color: white;padding-right: 0.2em;padding-left: 0.2em;position: relative;}#sk-container-id-3 div.sk-item {position: relative;z-index: 1;}#sk-container-id-3 div.sk-parallel {display: flex;align-items: stretch;justify-content: center;background-color: white;position: relative;}#sk-container-id-3 div.sk-item::before, #sk-container-id-3 div.sk-parallel-item::before {content: \"\";position: absolute;border-left: 1px solid gray;box-sizing: border-box;top: 0;bottom: 0;left: 50%;z-index: -1;}#sk-container-id-3 div.sk-parallel-item {display: flex;flex-direction: column;z-index: 1;position: relative;background-color: white;}#sk-container-id-3 div.sk-parallel-item:first-child::after {align-self: flex-end;width: 50%;}#sk-container-id-3 div.sk-parallel-item:last-child::after {align-self: flex-start;width: 50%;}#sk-container-id-3 div.sk-parallel-item:only-child::after {width: 0;}#sk-container-id-3 div.sk-dashed-wrapped {border: 1px dashed gray;margin: 0 0.4em 0.5em 0.4em;box-sizing: border-box;padding-bottom: 0.4em;background-color: white;}#sk-container-id-3 div.sk-label label {font-family: monospace;font-weight: bold;display: inline-block;line-height: 1.2em;}#sk-container-id-3 div.sk-label-container {text-align: center;}#sk-container-id-3 div.sk-container {/* jupyter's `normalize.less` sets `[hidden] { display: none; }` but bootstrap.min.css set `[hidden] { display: none !important; }` so we also need the `!important` here to be able to override the default hidden behavior on the sphinx rendered scikit-learn.org. See: https://github.com/scikit-learn/scikit-learn/issues/21755 */display: inline-block !important;position: relative;}#sk-container-id-3 div.sk-text-repr-fallback {display: none;}</style><div id=\"sk-container-id-3\" class=\"sk-top-container\"><div class=\"sk-text-repr-fallback\"><pre>GridSearchCV(cv=5,\n",
              "             estimator=XGBClassifier(base_score=None, booster=None,\n",
              "                                     callbacks=None, colsample_bylevel=None,\n",
              "                                     colsample_bynode=None,\n",
              "                                     colsample_bytree=None,\n",
              "                                     early_stopping_rounds=None,\n",
              "                                     enable_categorical=False,\n",
              "                                     eval_metric=&#x27;logloss&#x27;, feature_types=None,\n",
              "                                     gamma=None, gpu_id=None, grow_policy=None,\n",
              "                                     importance_type=None,\n",
              "                                     interaction_constraints=None,\n",
              "                                     learning_rate=...\n",
              "                                     max_cat_to_onehot=None,\n",
              "                                     max_delta_step=None, max_depth=None,\n",
              "                                     max_leaves=None, min_child_weight=None,\n",
              "                                     missing=nan, monotone_constraints=None,\n",
              "                                     n_estimators=100, n_jobs=None,\n",
              "                                     num_parallel_tree=None, predictor=None,\n",
              "                                     random_state=42, ...),\n",
              "             n_jobs=-1,\n",
              "             param_grid={&#x27;learning_rate&#x27;: [0.01, 0.1, 0.2],\n",
              "                         &#x27;max_depth&#x27;: [3, 4, 5],\n",
              "                         &#x27;n_estimators&#x27;: [50, 100, 200]},\n",
              "             scoring=&#x27;recall&#x27;, verbose=2)</pre><b>In a Jupyter environment, please rerun this cell to show the HTML representation or trust the notebook. <br />On GitHub, the HTML representation is unable to render, please try loading this page with nbviewer.org.</b></div><div class=\"sk-container\" hidden><div class=\"sk-item sk-dashed-wrapped\"><div class=\"sk-label-container\"><div class=\"sk-label sk-toggleable\"><input class=\"sk-toggleable__control sk-hidden--visually\" id=\"sk-estimator-id-7\" type=\"checkbox\" ><label for=\"sk-estimator-id-7\" class=\"sk-toggleable__label sk-toggleable__label-arrow\">GridSearchCV</label><div class=\"sk-toggleable__content\"><pre>GridSearchCV(cv=5,\n",
              "             estimator=XGBClassifier(base_score=None, booster=None,\n",
              "                                     callbacks=None, colsample_bylevel=None,\n",
              "                                     colsample_bynode=None,\n",
              "                                     colsample_bytree=None,\n",
              "                                     early_stopping_rounds=None,\n",
              "                                     enable_categorical=False,\n",
              "                                     eval_metric=&#x27;logloss&#x27;, feature_types=None,\n",
              "                                     gamma=None, gpu_id=None, grow_policy=None,\n",
              "                                     importance_type=None,\n",
              "                                     interaction_constraints=None,\n",
              "                                     learning_rate=...\n",
              "                                     max_cat_to_onehot=None,\n",
              "                                     max_delta_step=None, max_depth=None,\n",
              "                                     max_leaves=None, min_child_weight=None,\n",
              "                                     missing=nan, monotone_constraints=None,\n",
              "                                     n_estimators=100, n_jobs=None,\n",
              "                                     num_parallel_tree=None, predictor=None,\n",
              "                                     random_state=42, ...),\n",
              "             n_jobs=-1,\n",
              "             param_grid={&#x27;learning_rate&#x27;: [0.01, 0.1, 0.2],\n",
              "                         &#x27;max_depth&#x27;: [3, 4, 5],\n",
              "                         &#x27;n_estimators&#x27;: [50, 100, 200]},\n",
              "             scoring=&#x27;recall&#x27;, verbose=2)</pre></div></div></div><div class=\"sk-parallel\"><div class=\"sk-parallel-item\"><div class=\"sk-item\"><div class=\"sk-label-container\"><div class=\"sk-label sk-toggleable\"><input class=\"sk-toggleable__control sk-hidden--visually\" id=\"sk-estimator-id-8\" type=\"checkbox\" ><label for=\"sk-estimator-id-8\" class=\"sk-toggleable__label sk-toggleable__label-arrow\">estimator: XGBClassifier</label><div class=\"sk-toggleable__content\"><pre>XGBClassifier(base_score=None, booster=None, callbacks=None,\n",
              "              colsample_bylevel=None, colsample_bynode=None,\n",
              "              colsample_bytree=None, early_stopping_rounds=None,\n",
              "              enable_categorical=False, eval_metric=&#x27;logloss&#x27;,\n",
              "              feature_types=None, gamma=None, gpu_id=None, grow_policy=None,\n",
              "              importance_type=None, interaction_constraints=None,\n",
              "              learning_rate=None, max_bin=None, max_cat_threshold=None,\n",
              "              max_cat_to_onehot=None, max_delta_step=None, max_depth=None,\n",
              "              max_leaves=None, min_child_weight=None, missing=nan,\n",
              "              monotone_constraints=None, n_estimators=100, n_jobs=None,\n",
              "              num_parallel_tree=None, predictor=None, random_state=42, ...)</pre></div></div></div><div class=\"sk-serial\"><div class=\"sk-item\"><div class=\"sk-estimator sk-toggleable\"><input class=\"sk-toggleable__control sk-hidden--visually\" id=\"sk-estimator-id-9\" type=\"checkbox\" ><label for=\"sk-estimator-id-9\" class=\"sk-toggleable__label sk-toggleable__label-arrow\">XGBClassifier</label><div class=\"sk-toggleable__content\"><pre>XGBClassifier(base_score=None, booster=None, callbacks=None,\n",
              "              colsample_bylevel=None, colsample_bynode=None,\n",
              "              colsample_bytree=None, early_stopping_rounds=None,\n",
              "              enable_categorical=False, eval_metric=&#x27;logloss&#x27;,\n",
              "              feature_types=None, gamma=None, gpu_id=None, grow_policy=None,\n",
              "              importance_type=None, interaction_constraints=None,\n",
              "              learning_rate=None, max_bin=None, max_cat_threshold=None,\n",
              "              max_cat_to_onehot=None, max_delta_step=None, max_depth=None,\n",
              "              max_leaves=None, min_child_weight=None, missing=nan,\n",
              "              monotone_constraints=None, n_estimators=100, n_jobs=None,\n",
              "              num_parallel_tree=None, predictor=None, random_state=42, ...)</pre></div></div></div></div></div></div></div></div></div></div>"
            ]
          },
          "metadata": {},
          "execution_count": 44
        }
      ]
    },
    {
      "cell_type": "code",
      "source": [
        "# Para o modelo XGBoost\n",
        "best_params_xgb = grid_search_xgb.best_params_\n",
        "best_score_xgb = grid_search_xgb.best_score_"
      ],
      "metadata": {
        "id": "eB_RD6vVBSYx"
      },
      "execution_count": 46,
      "outputs": []
    },
    {
      "cell_type": "code",
      "source": [
        "print(best_params_xgb)\n",
        "print(best_score_xgb)"
      ],
      "metadata": {
        "colab": {
          "base_uri": "https://localhost:8080/"
        },
        "id": "tB6SaYTdBbmQ",
        "outputId": "3302b105-ecea-4790-9396-a0e9a69fb405"
      },
      "execution_count": 47,
      "outputs": [
        {
          "output_type": "stream",
          "name": "stdout",
          "text": [
            "{'learning_rate': 0.01, 'max_depth': 3, 'n_estimators': 50}\n",
            "0.8861256798756798\n"
          ]
        }
      ]
    },
    {
      "cell_type": "markdown",
      "source": [
        "Hiperparâmetros Regressão Logística"
      ],
      "metadata": {
        "id": "vboBQGfeBh8V"
      }
    },
    {
      "cell_type": "code",
      "source": [
        "# Grid separado para o solver lbfgs e newton-cg que só suportam a penalidade l2\n",
        "param_grid_lr_l2 = {\n",
        "    'C': [0.001, 0.01, 0.1, 1, 10],\n",
        "    'penalty': ['l2'],\n",
        "    'solver': ['newton-cg', 'lbfgs']\n",
        "}\n",
        "\n",
        "# Grid separado para o solver liblinear que suporta as penalidades l1 e l2\n",
        "param_grid_lr_l1_l2 = {\n",
        "    'C': [0.001, 0.01, 0.1, 1, 10],\n",
        "    'penalty': ['l1', 'l2'],\n",
        "    'solver': ['liblinear']\n",
        "}\n",
        "\n",
        "# Criar os objetos GridSearchCV\n",
        "grid_search_lr_l2 = GridSearchCV(estimator=clf_lr, param_grid=param_grid_lr_l2,\n",
        "                                 cv=5, scoring='recall', n_jobs=-1, verbose=2)\n",
        "grid_search_lr_l1_l2 = GridSearchCV(estimator=clf_lr, param_grid=param_grid_lr_l1_l2,\n",
        "                                    cv=5, scoring='recall', n_jobs=-1, verbose=2)\n",
        "\n",
        "# Treinar os modelos\n",
        "grid_search_lr_l2.fit(X, y)\n",
        "grid_search_lr_l1_l2.fit(X, y)\n",
        "\n",
        "# Obter os melhores parâmetros e scores\n",
        "best_params_lr_l2 = grid_search_lr_l2.best_params_\n",
        "best_score_lr_l2 = grid_search_lr_l2.best_score_\n",
        "\n",
        "best_params_lr_l1_l2 = grid_search_lr_l1_l2.best_params_\n",
        "best_score_lr_l1_l2 = grid_search_lr_l1_l2.best_score_\n"
      ],
      "metadata": {
        "colab": {
          "base_uri": "https://localhost:8080/"
        },
        "id": "X76XwPfhBnJJ",
        "outputId": "73dbc87b-06cb-4642-ac44-b1a88df75fe8"
      },
      "execution_count": 49,
      "outputs": [
        {
          "output_type": "stream",
          "name": "stdout",
          "text": [
            "Fitting 5 folds for each of 10 candidates, totalling 50 fits\n",
            "Fitting 5 folds for each of 10 candidates, totalling 50 fits\n"
          ]
        }
      ]
    },
    {
      "cell_type": "code",
      "source": [
        "print(best_params_lr_l2)\n",
        "print(best_score_lr_l2)\n",
        "print(best_params_lr_l1_l2)\n",
        "print(best_score_lr_l1_l2)"
      ],
      "metadata": {
        "colab": {
          "base_uri": "https://localhost:8080/"
        },
        "id": "83OWqLHLBnFY",
        "outputId": "b3c629de-140e-427e-b709-5bcee9e069ee"
      },
      "execution_count": 50,
      "outputs": [
        {
          "output_type": "stream",
          "name": "stdout",
          "text": [
            "{'C': 0.001, 'penalty': 'l2', 'solver': 'newton-cg'}\n",
            "0.8866938616938617\n",
            "{'C': 0.001, 'penalty': 'l2', 'solver': 'liblinear'}\n",
            "0.8889714452214452\n"
          ]
        }
      ]
    },
    {
      "cell_type": "code",
      "source": [
        "import matplotlib.pyplot as plt\n",
        "import numpy as np\n",
        "\n",
        "# Preparar os dados para o gráfico\n",
        "labels = ['Random Forest', 'XGBoost', 'Logistic Regression (L2)', 'Logistic Regression (L1/L2)']\n",
        "scores = [best_score_rf, best_score_xgb, best_score_lr_l2, best_score_lr_l1_l2]\n",
        "\n",
        "# Criar o gráfico de barras\n",
        "plt.figure(figsize=(12, 6))\n",
        "bars = plt.barh(labels, scores, color='dodgerblue')\n",
        "\n",
        "# Adicionar rótulos de texto nas barras\n",
        "for bar in bars:\n",
        "    plt.text(bar.get_width() - 0.02, bar.get_y() + bar.get_height()/2 - 0.1,\n",
        "             f\"{bar.get_width():.6f}\", va='center', ha='center', color='white', fontsize=12)\n",
        "\n",
        "# Adicionar títulos e rótulos\n",
        "plt.xlabel('Recall Score')\n",
        "plt.ylabel('Model')\n",
        "plt.title('Comparison of Best Recall Scores Across Models')\n",
        "plt.xlim([0.8 , 0.89])  # Definindo o limite do eixo x para começar em 0.8\n",
        "\n",
        "# Mostrar o gráfico\n",
        "plt.show()"
      ],
      "metadata": {
        "colab": {
          "base_uri": "https://localhost:8080/",
          "height": 564
        },
        "id": "fDFCb8MFDKPr",
        "outputId": "23d17b31-44d3-4549-f9ee-f692abeee04f"
      },
      "execution_count": 68,
      "outputs": [
        {
          "output_type": "display_data",
          "data": {
            "text/plain": [
              "<Figure size 1200x600 with 1 Axes>"
            ],
            "image/png": "[encoded data removed]"
          },
          "metadata": {}
        }
      ]
    },
    {
      "cell_type": "markdown",
      "source": [
        "# <h1> <font color='blue'>EXTRA:</font> Verificar quais os hiperparâmetros escolhidos.\n",
        "\n",
        "Uma boa prática após a otimização é verificar os hiperparâmetros utilizados no melhor modelo. Pesquise na documentação algum método que ajude a conferir os hiperparâmetros do modelo."
      ],
      "metadata": {
        "id": "YY9yJ_r77Mum"
      }
    },
    {
      "cell_type": "code",
      "source": [
        "print(best_params_lr_l1_l2)\n",
        "print(best_score_lr_l1_l2)"
      ],
      "metadata": {
        "colab": {
          "base_uri": "https://localhost:8080/"
        },
        "id": "oVyhQwCLEygj",
        "outputId": "c2d4391b-85f3-4e1e-b988-2a892ee5fcf2"
      },
      "execution_count": 70,
      "outputs": [
        {
          "output_type": "stream",
          "name": "stdout",
          "text": [
            "{'C': 0.001, 'penalty': 'l2', 'solver': 'liblinear'}\n",
            "0.8889714452214452\n"
          ]
        }
      ]
    },
    {
      "cell_type": "markdown",
      "source": [
        "# <h1> <font color='blue'>EXTRA:</font> Salvar o melhor modelo!\n",
        "\n",
        "Salve o modelo de machine learning otimizado. Isso permitirá que o modelo seja reutilizado posteriormente para realizar previsões precisas em novos conjuntos de dados. A biblioteca pickle pode ajudar nessa tarefa!\n"
      ],
      "metadata": {
        "id": "iCMIY8aB7Ws2"
      }
    },
    {
      "cell_type": "code",
      "source": [
        "best_lr_model = grid_search_lr.best_estimator_\n",
        "predictions_lr = best_lr_model.predict(X)"
      ],
      "metadata": {
        "id": "LHseAdlL63Tl"
      },
      "execution_count": 73,
      "outputs": []
    },
    {
      "cell_type": "code",
      "source": [
        "from sklearn.model_selection import cross_val_score\n",
        "from sklearn.metrics import classification_report, confusion_matrix\n",
        "\n",
        "# Avaliação com validação cruzada\n",
        "cv_scores = cross_val_score(best_lr_model, X, y, cv=5, scoring='recall')\n",
        "\n",
        "print(\"Recall scores com validação cruzada: \", cv_scores)\n",
        "print(\"Média dos scores de recall: \", np.mean(cv_scores))\n"
      ],
      "metadata": {
        "colab": {
          "base_uri": "https://localhost:8080/"
        },
        "id": "gfprjEEcGK0K",
        "outputId": "e92ece1c-22ea-4978-cb70-ef01ad81bab4"
      },
      "execution_count": 75,
      "outputs": [
        {
          "output_type": "stream",
          "name": "stdout",
          "text": [
            "Recall scores com validação cruzada:  [0.89458689 0.85511364 0.9031339  0.88319088 0.90883191]\n",
            "Média dos scores de recall:  0.8889714452214452\n"
          ]
        }
      ]
    },
    {
      "cell_type": "code",
      "source": [
        "from sklearn.model_selection import train_test_split\n",
        "from sklearn.metrics import recall_score\n",
        "\n",
        "# Suponhamos que 'X' são suas características e 'y' são suas etiquetas (classes)\n",
        "X = df_balanceado.drop('Churn', axis=1)\n",
        "y = df_balanceado['Churn']\n",
        "\n",
        "# Dividir os dados em conjuntos de treinamento e teste\n",
        "X_train, X_test, y_train, y_test = train_test_split(X, y, test_size=0.2, random_state=42)\n",
        "\n",
        "# Treinar o modelo otimizado no conjunto de treinamento\n",
        "best_lr_model.fit(X_train, y_train)\n",
        "\n",
        "# Previsões no conjunto de teste\n",
        "y_pred = best_lr_model.predict(X_test)\n",
        "\n",
        "# Avaliar o modelo no conjunto de teste\n",
        "print(\"Recall no conjunto de teste: \", recall_score(y_test, y_pred))"
      ],
      "metadata": {
        "colab": {
          "base_uri": "https://localhost:8080/"
        },
        "id": "-c5bBmWuFqzS",
        "outputId": "7b189bdd-6e40-46a1-91f3-df73535c08c4"
      },
      "execution_count": 76,
      "outputs": [
        {
          "output_type": "stream",
          "name": "stdout",
          "text": [
            "Recall no conjunto de teste:  0.896969696969697\n"
          ]
        }
      ]
    },
    {
      "cell_type": "code",
      "source": [
        "import pickle\n",
        "\n",
        "# Salvar o melhor modelo de Regressão Logística utilizando pickle\n",
        "with open('best_lr_model.pkl', 'wb') as model_file:\n",
        "    pickle.dump(best_lr_model, model_file)\n",
        "\n",
        "# Carregar o modelo salvo\n",
        "with open('best_lr_model.pkl', 'rb') as model_file:\n",
        "    loaded_model = pickle.load(model_file)\n",
        "\n",
        "# Imprimir o modelo\n",
        "print(loaded_model)"
      ],
      "metadata": {
        "colab": {
          "base_uri": "https://localhost:8080/"
        },
        "id": "KnkEnTEpG_0R",
        "outputId": "3d5fbfdd-c768-4869-e92f-afea7c91ee6b"
      },
      "execution_count": 80,
      "outputs": [
        {
          "output_type": "stream",
          "name": "stdout",
          "text": [
            "LogisticRegression(C=0.001, max_iter=1000, random_state=42, solver='liblinear')\n"
          ]
        }
      ]
    }
  ]
}