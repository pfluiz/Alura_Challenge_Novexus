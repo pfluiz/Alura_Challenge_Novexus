{
  "nbformat": 4,
  "nbformat_minor": 0,
  "metadata": {
    "colab": {
      "provenance": []
    },
    "kernelspec": {
      "name": "python3",
      "display_name": "Python 3"
    },
    "language_info": {
      "name": "python"
    }
  },
  "cells": [
    {
      "cell_type": "markdown",
      "source": [
        "# <h1> <font color='red'>DESAFIO:</font> Crie um arquivo com as bibliotecas utilizadas no projeto\n",
        "\n",
        "Crie um arquivo requirements.txt com as bibliotecas que foram utilizadas durante a construção do projeto. Isso facilita para caso o projeto precise ser reproduzido em outra máquina ou ambiente virtual."
      ],
      "metadata": {
        "id": "0BBwbhaTz2n9"
      }
    },
    {
      "cell_type": "code",
      "source": [
        "from imblearn.under_sampling import RandomUnderSampler\n",
        "from pandas import json_normalize\n",
        "from sklearn.dummy import DummyClassifier\n",
        "from sklearn.ensemble import RandomForestClassifier\n",
        "from sklearn.feature_selection import SelectKBest\n",
        "from sklearn.feature_selection import chi2\n",
        "from sklearn.linear_model import LogisticRegression\n",
        "from sklearn.metrics import classification_report, confusion_matrix\n",
        "from sklearn.metrics import recall_score\n",
        "from sklearn.model_selection import GridSearchCV\n",
        "from sklearn.model_selection import cross_val_score\n",
        "from sklearn.model_selection import train_test_split\n",
        "import matplotlib.pyplot as plt\n",
        "import numpy as np\n",
        "import pandas as pd\n",
        "import pickle\n",
        "import plotly.express as px\n",
        "import random\n",
        "import seaborn as sns\n",
        "import xgboost as xgb\n",
        "from joblib import load\n",
        "from sklearn.metrics import accuracy_score, recall_score, precision_score, f1_score\n",
        "from sklearn.metrics import confusion_matrix\n",
        "import seaborn as sns\n",
        "import matplotlib.pyplot as plt\n",
        "import streamlit as st\n"
      ],
      "metadata": {
        "id": "vPbsGXxx_GyN"
      },
      "execution_count": 18,
      "outputs": []
    },
    {
      "cell_type": "markdown",
      "source": [
        "# <h1> <font color='red'>DESAFIO:</font> Obtenha os dados para o treinamento do modelo\n",
        "\n",
        "Ao fazer o deploy do modelo, você não precisa separar novamente em treino e teste. Em vez disso, você pode treinar o modelo com todos os dados disponíveis. Isso inclui o conjunto de treino original e o conjunto de teste que você separou anteriormente."
      ],
      "metadata": {
        "id": "Vr_AhEPA0EDi"
      }
    },
    {
      "cell_type": "code",
      "source": [
        "df_balanceado = pd.read_csv('/content/drive/MyDrive/Alura/Novexus/df_balanceado.csv')\n",
        "df_balanceado"
      ],
      "metadata": {
        "colab": {
          "base_uri": "https://localhost:8080/",
          "height": 424
        },
        "id": "OtwcJ5lWW_cn",
        "outputId": "27931300-59ae-4716-ab03-0eedafb8bf90"
      },
      "execution_count": 19,
      "outputs": [
        {
          "output_type": "execute_result",
          "data": {
            "text/plain": [
              "      tenure_0-5  account_Contract_MONTH-TO-MONTH  account_Contract_TWO YEAR  \\\n",
              "0              0                                0                          0   \n",
              "1              0                                1                          0   \n",
              "2              1                                1                          0   \n",
              "3              0                                1                          0   \n",
              "4              1                                1                          0   \n",
              "...          ...                              ...                        ...   \n",
              "5507           0                                0                          0   \n",
              "5508           0                                1                          0   \n",
              "5509           1                                1                          0   \n",
              "5510           0                                0                          1   \n",
              "5511           0                                0                          1   \n",
              "\n",
              "      account_charges_0-500  Churn  \n",
              "0                         0      0  \n",
              "1                         0      0  \n",
              "2                         1      1  \n",
              "3                         0      1  \n",
              "4                         1      1  \n",
              "...                     ...    ...  \n",
              "5507                      0      0  \n",
              "5508                      0      1  \n",
              "5509                      1      0  \n",
              "5510                      0      0  \n",
              "5511                      0      0  \n",
              "\n",
              "[5512 rows x 5 columns]"
            ],
            "text/html": [
              "\n",
              "  <div id=\"df-93f90ab6-f3f8-4c36-9636-0d90f39666eb\" class=\"colab-df-container\">\n",
              "    <div>\n",
              "<style scoped>\n",
              "    .dataframe tbody tr th:only-of-type {\n",
              "        vertical-align: middle;\n",
              "    }\n",
              "\n",
              "    .dataframe tbody tr th {\n",
              "        vertical-align: top;\n",
              "    }\n",
              "\n",
              "    .dataframe thead th {\n",
              "        text-align: right;\n",
              "    }\n",
              "</style>\n",
              "<table border=\"1\" class=\"dataframe\">\n",
              "  <thead>\n",
              "    <tr style=\"text-align: right;\">\n",
              "      <th></th>\n",
              "      <th>tenure_0-5</th>\n",
              "      <th>account_Contract_MONTH-TO-MONTH</th>\n",
              "      <th>account_Contract_TWO YEAR</th>\n",
              "      <th>account_charges_0-500</th>\n",
              "      <th>Churn</th>\n",
              "    </tr>\n",
              "  </thead>\n",
              "  <tbody>\n",
              "    <tr>\n",
              "      <th>0</th>\n",
              "      <td>0</td>\n",
              "      <td>0</td>\n",
              "      <td>0</td>\n",
              "      <td>0</td>\n",
              "      <td>0</td>\n",
              "    </tr>\n",
              "    <tr>\n",
              "      <th>1</th>\n",
              "      <td>0</td>\n",
              "      <td>1</td>\n",
              "      <td>0</td>\n",
              "      <td>0</td>\n",
              "      <td>0</td>\n",
              "    </tr>\n",
              "    <tr>\n",
              "      <th>2</th>\n",
              "      <td>1</td>\n",
              "      <td>1</td>\n",
              "      <td>0</td>\n",
              "      <td>1</td>\n",
              "      <td>1</td>\n",
              "    </tr>\n",
              "    <tr>\n",
              "      <th>3</th>\n",
              "      <td>0</td>\n",
              "      <td>1</td>\n",
              "      <td>0</td>\n",
              "      <td>0</td>\n",
              "      <td>1</td>\n",
              "    </tr>\n",
              "    <tr>\n",
              "      <th>4</th>\n",
              "      <td>1</td>\n",
              "      <td>1</td>\n",
              "      <td>0</td>\n",
              "      <td>1</td>\n",
              "      <td>1</td>\n",
              "    </tr>\n",
              "    <tr>\n",
              "      <th>...</th>\n",
              "      <td>...</td>\n",
              "      <td>...</td>\n",
              "      <td>...</td>\n",
              "      <td>...</td>\n",
              "      <td>...</td>\n",
              "    </tr>\n",
              "    <tr>\n",
              "      <th>5507</th>\n",
              "      <td>0</td>\n",
              "      <td>0</td>\n",
              "      <td>0</td>\n",
              "      <td>0</td>\n",
              "      <td>0</td>\n",
              "    </tr>\n",
              "    <tr>\n",
              "      <th>5508</th>\n",
              "      <td>0</td>\n",
              "      <td>1</td>\n",
              "      <td>0</td>\n",
              "      <td>0</td>\n",
              "      <td>1</td>\n",
              "    </tr>\n",
              "    <tr>\n",
              "      <th>5509</th>\n",
              "      <td>1</td>\n",
              "      <td>1</td>\n",
              "      <td>0</td>\n",
              "      <td>1</td>\n",
              "      <td>0</td>\n",
              "    </tr>\n",
              "    <tr>\n",
              "      <th>5510</th>\n",
              "      <td>0</td>\n",
              "      <td>0</td>\n",
              "      <td>1</td>\n",
              "      <td>0</td>\n",
              "      <td>0</td>\n",
              "    </tr>\n",
              "    <tr>\n",
              "      <th>5511</th>\n",
              "      <td>0</td>\n",
              "      <td>0</td>\n",
              "      <td>1</td>\n",
              "      <td>0</td>\n",
              "      <td>0</td>\n",
              "    </tr>\n",
              "  </tbody>\n",
              "</table>\n",
              "<p>5512 rows × 5 columns</p>\n",
              "</div>\n",
              "    <div class=\"colab-df-buttons\">\n",
              "\n",
              "  <div class=\"colab-df-container\">\n",
              "    <button class=\"colab-df-convert\" onclick=\"convertToInteractive('df-93f90ab6-f3f8-4c36-9636-0d90f39666eb')\"\n",
              "            title=\"Convert this dataframe to an interactive table.\"\n",
              "            style=\"display:none;\">\n",
              "\n",
              "  <svg xmlns=\"http://www.w3.org/2000/svg\" height=\"24px\" viewBox=\"0 -960 960 960\">\n",
              "    <path d=\"M120-120v-720h720v720H120Zm60-500h600v-160H180v160Zm220 220h160v-160H400v160Zm0 220h160v-160H400v160ZM180-400h160v-160H180v160Zm440 0h160v-160H620v160ZM180-180h160v-160H180v160Zm440 0h160v-160H620v160Z\"/>\n",
              "  </svg>\n",
              "    </button>\n",
              "\n",
              "  <style>\n",
              "    .colab-df-container {\n",
              "      display:flex;\n",
              "      gap: 12px;\n",
              "    }\n",
              "\n",
              "    .colab-df-convert {\n",
              "      background-color: #E8F0FE;\n",
              "      border: none;\n",
              "      border-radius: 50%;\n",
              "      cursor: pointer;\n",
              "      display: none;\n",
              "      fill: #1967D2;\n",
              "      height: 32px;\n",
              "      padding: 0 0 0 0;\n",
              "      width: 32px;\n",
              "    }\n",
              "\n",
              "    .colab-df-convert:hover {\n",
              "      background-color: #E2EBFA;\n",
              "      box-shadow: 0px 1px 2px rgba(60, 64, 67, 0.3), 0px 1px 3px 1px rgba(60, 64, 67, 0.15);\n",
              "      fill: #174EA6;\n",
              "    }\n",
              "\n",
              "    .colab-df-buttons div {\n",
              "      margin-bottom: 4px;\n",
              "    }\n",
              "\n",
              "    [theme=dark] .colab-df-convert {\n",
              "      background-color: #3B4455;\n",
              "      fill: #D2E3FC;\n",
              "    }\n",
              "\n",
              "    [theme=dark] .colab-df-convert:hover {\n",
              "      background-color: #434B5C;\n",
              "      box-shadow: 0px 1px 3px 1px rgba(0, 0, 0, 0.15);\n",
              "      filter: drop-shadow(0px 1px 2px rgba(0, 0, 0, 0.3));\n",
              "      fill: #FFFFFF;\n",
              "    }\n",
              "  </style>\n",
              "\n",
              "    <script>\n",
              "      const buttonEl =\n",
              "        document.querySelector('#df-93f90ab6-f3f8-4c36-9636-0d90f39666eb button.colab-df-convert');\n",
              "      buttonEl.style.display =\n",
              "        google.colab.kernel.accessAllowed ? 'block' : 'none';\n",
              "\n",
              "      async function convertToInteractive(key) {\n",
              "        const element = document.querySelector('#df-93f90ab6-f3f8-4c36-9636-0d90f39666eb');\n",
              "        const dataTable =\n",
              "          await google.colab.kernel.invokeFunction('convertToInteractive',\n",
              "                                                    [key], {});\n",
              "        if (!dataTable) return;\n",
              "\n",
              "        const docLinkHtml = 'Like what you see? Visit the ' +\n",
              "          '<a target=\"_blank\" href=https://colab.research.google.com/notebooks/data_table.ipynb>data table notebook</a>'\n",
              "          + ' to learn more about interactive tables.';\n",
              "        element.innerHTML = '';\n",
              "        dataTable['output_type'] = 'display_data';\n",
              "        await google.colab.output.renderOutput(dataTable, element);\n",
              "        const docLink = document.createElement('div');\n",
              "        docLink.innerHTML = docLinkHtml;\n",
              "        element.appendChild(docLink);\n",
              "      }\n",
              "    </script>\n",
              "  </div>\n",
              "\n",
              "\n",
              "<div id=\"df-8cbee3a1-74ff-4085-ae93-947901551938\">\n",
              "  <button class=\"colab-df-quickchart\" onclick=\"quickchart('df-8cbee3a1-74ff-4085-ae93-947901551938')\"\n",
              "            title=\"Suggest charts.\"\n",
              "            style=\"display:none;\">\n",
              "\n",
              "<svg xmlns=\"http://www.w3.org/2000/svg\" height=\"24px\"viewBox=\"0 0 24 24\"\n",
              "     width=\"24px\">\n",
              "    <g>\n",
              "        <path d=\"M19 3H5c-1.1 0-2 .9-2 2v14c0 1.1.9 2 2 2h14c1.1 0 2-.9 2-2V5c0-1.1-.9-2-2-2zM9 17H7v-7h2v7zm4 0h-2V7h2v10zm4 0h-2v-4h2v4z\"/>\n",
              "    </g>\n",
              "</svg>\n",
              "  </button>\n",
              "\n",
              "<style>\n",
              "  .colab-df-quickchart {\n",
              "      --bg-color: #E8F0FE;\n",
              "      --fill-color: #1967D2;\n",
              "      --hover-bg-color: #E2EBFA;\n",
              "      --hover-fill-color: #174EA6;\n",
              "      --disabled-fill-color: #AAA;\n",
              "      --disabled-bg-color: #DDD;\n",
              "  }\n",
              "\n",
              "  [theme=dark] .colab-df-quickchart {\n",
              "      --bg-color: #3B4455;\n",
              "      --fill-color: #D2E3FC;\n",
              "      --hover-bg-color: #434B5C;\n",
              "      --hover-fill-color: #FFFFFF;\n",
              "      --disabled-bg-color: #3B4455;\n",
              "      --disabled-fill-color: #666;\n",
              "  }\n",
              "\n",
              "  .colab-df-quickchart {\n",
              "    background-color: var(--bg-color);\n",
              "    border: none;\n",
              "    border-radius: 50%;\n",
              "    cursor: pointer;\n",
              "    display: none;\n",
              "    fill: var(--fill-color);\n",
              "    height: 32px;\n",
              "    padding: 0;\n",
              "    width: 32px;\n",
              "  }\n",
              "\n",
              "  .colab-df-quickchart:hover {\n",
              "    background-color: var(--hover-bg-color);\n",
              "    box-shadow: 0 1px 2px rgba(60, 64, 67, 0.3), 0 1px 3px 1px rgba(60, 64, 67, 0.15);\n",
              "    fill: var(--button-hover-fill-color);\n",
              "  }\n",
              "\n",
              "  .colab-df-quickchart-complete:disabled,\n",
              "  .colab-df-quickchart-complete:disabled:hover {\n",
              "    background-color: var(--disabled-bg-color);\n",
              "    fill: var(--disabled-fill-color);\n",
              "    box-shadow: none;\n",
              "  }\n",
              "\n",
              "  .colab-df-spinner {\n",
              "    border: 2px solid var(--fill-color);\n",
              "    border-color: transparent;\n",
              "    border-bottom-color: var(--fill-color);\n",
              "    animation:\n",
              "      spin 1s steps(1) infinite;\n",
              "  }\n",
              "\n",
              "  @keyframes spin {\n",
              "    0% {\n",
              "      border-color: transparent;\n",
              "      border-bottom-color: var(--fill-color);\n",
              "      border-left-color: var(--fill-color);\n",
              "    }\n",
              "    20% {\n",
              "      border-color: transparent;\n",
              "      border-left-color: var(--fill-color);\n",
              "      border-top-color: var(--fill-color);\n",
              "    }\n",
              "    30% {\n",
              "      border-color: transparent;\n",
              "      border-left-color: var(--fill-color);\n",
              "      border-top-color: var(--fill-color);\n",
              "      border-right-color: var(--fill-color);\n",
              "    }\n",
              "    40% {\n",
              "      border-color: transparent;\n",
              "      border-right-color: var(--fill-color);\n",
              "      border-top-color: var(--fill-color);\n",
              "    }\n",
              "    60% {\n",
              "      border-color: transparent;\n",
              "      border-right-color: var(--fill-color);\n",
              "    }\n",
              "    80% {\n",
              "      border-color: transparent;\n",
              "      border-right-color: var(--fill-color);\n",
              "      border-bottom-color: var(--fill-color);\n",
              "    }\n",
              "    90% {\n",
              "      border-color: transparent;\n",
              "      border-bottom-color: var(--fill-color);\n",
              "    }\n",
              "  }\n",
              "</style>\n",
              "\n",
              "  <script>\n",
              "    async function quickchart(key) {\n",
              "      const quickchartButtonEl =\n",
              "        document.querySelector('#' + key + ' button');\n",
              "      quickchartButtonEl.disabled = true;  // To prevent multiple clicks.\n",
              "      quickchartButtonEl.classList.add('colab-df-spinner');\n",
              "      try {\n",
              "        const charts = await google.colab.kernel.invokeFunction(\n",
              "            'suggestCharts', [key], {});\n",
              "      } catch (error) {\n",
              "        console.error('Error during call to suggestCharts:', error);\n",
              "      }\n",
              "      quickchartButtonEl.classList.remove('colab-df-spinner');\n",
              "      quickchartButtonEl.classList.add('colab-df-quickchart-complete');\n",
              "    }\n",
              "    (() => {\n",
              "      let quickchartButtonEl =\n",
              "        document.querySelector('#df-8cbee3a1-74ff-4085-ae93-947901551938 button');\n",
              "      quickchartButtonEl.style.display =\n",
              "        google.colab.kernel.accessAllowed ? 'block' : 'none';\n",
              "    })();\n",
              "  </script>\n",
              "</div>\n",
              "    </div>\n",
              "  </div>\n"
            ]
          },
          "metadata": {},
          "execution_count": 19
        }
      ]
    },
    {
      "cell_type": "markdown",
      "source": [
        "Treinando o modelo com todo o conjunto inteiro de dados."
      ],
      "metadata": {
        "id": "TEM1Vuh9YYzt"
      }
    },
    {
      "cell_type": "code",
      "source": [
        "X = df_balanceado.drop('Churn', axis=1)\n",
        "y = df_balanceado['Churn']"
      ],
      "metadata": {
        "id": "46tz9zuRYDcW"
      },
      "execution_count": 20,
      "outputs": []
    },
    {
      "cell_type": "code",
      "source": [
        "# Carregando o modelo\n",
        "loaded_model = load('/content/drive/MyDrive/Alura/Novexus/best_lr_model.pkl')\n",
        "\n",
        "# Utilizando o modelo para fazer previsões\n",
        "predictions = loaded_model.predict(X)"
      ],
      "metadata": {
        "id": "XerEJtCAcTwX"
      },
      "execution_count": 21,
      "outputs": []
    },
    {
      "cell_type": "code",
      "source": [
        "# Calcula e exibe diversas métricas\n",
        "print(f'Accuracy: {accuracy_score(y, predictions)}')\n",
        "print(f'Recall: {recall_score(y, predictions)}')\n",
        "print(f'Precision: {precision_score(y, predictions)}')\n",
        "print(f'F1 Score: {f1_score(y, predictions)}')"
      ],
      "metadata": {
        "colab": {
          "base_uri": "https://localhost:8080/"
        },
        "id": "zsYBSOJHcv_q",
        "outputId": "17412df3-89fd-40ba-ae72-0d72bd88b057"
      },
      "execution_count": 22,
      "outputs": [
        {
          "output_type": "stream",
          "name": "stdout",
          "text": [
            "Accuracy: 0.6346153846153846\n",
            "Recall: 0.8889521640091116\n",
            "Precision: 0.46183431952662723\n",
            "F1 Score: 0.6078660436137072\n"
          ]
        }
      ]
    },
    {
      "cell_type": "code",
      "source": [
        "# Calcula a matriz de confusão\n",
        "conf_matrix = confusion_matrix(y, predictions)\n",
        "\n",
        "# Exibe a matriz de confusão como um heatmap\n",
        "sns.heatmap(conf_matrix, annot=True, fmt='d', cmap='Blues')\n",
        "plt.xlabel('Predicted')\n",
        "plt.ylabel('Actual')\n",
        "plt.show()"
      ],
      "metadata": {
        "colab": {
          "base_uri": "https://localhost:8080/",
          "height": 449
        },
        "id": "0RSE0rotdEHb",
        "outputId": "7ac5998a-91f3-4fea-8825-19b8826cf1f8"
      },
      "execution_count": 23,
      "outputs": [
        {
          "output_type": "display_data",
          "data": {
            "text/plain": [
              "<Figure size 640x480 with 2 Axes>"
            ],
            "image/png": "[encoded data removed]"
          },
          "metadata": {}
        }
      ]
    },
    {
      "cell_type": "code",
      "source": [
        "from sklearn.metrics import classification_report\n",
        "\n",
        "# Gera e imprime o relatório de classificação\n",
        "print(classification_report(y, predictions))"
      ],
      "metadata": {
        "colab": {
          "base_uri": "https://localhost:8080/"
        },
        "id": "B7gE-X1bdPKg",
        "outputId": "540b2e9c-151f-4bbe-fc58-cb92d0c0ec13"
      },
      "execution_count": 24,
      "outputs": [
        {
          "output_type": "stream",
          "name": "stdout",
          "text": [
            "              precision    recall  f1-score   support\n",
            "\n",
            "           0       0.91      0.52      0.66      3756\n",
            "           1       0.46      0.89      0.61      1756\n",
            "\n",
            "    accuracy                           0.63      5512\n",
            "   macro avg       0.69      0.70      0.63      5512\n",
            "weighted avg       0.77      0.63      0.64      5512\n",
            "\n"
          ]
        }
      ]
    },
    {
      "cell_type": "markdown",
      "source": [
        "# <h1> <font color='red'>DESAFIO:</font> Salvar o modelo de machine learning\n",
        "\n",
        "Assim como feito na semana 2, certifique-se de salvar o modelo de machine learning para poder ser usado posteriormente na etapa de deploy."
      ],
      "metadata": {
        "id": "TGDwkpEv0KYz"
      }
    },
    {
      "cell_type": "code",
      "source": [
        "# Salvando o modelo\n",
        "with open('novexus_best_model_full_trained.pkl', 'wb') as file:\n",
        "    pickle.dump(loaded_model, file)"
      ],
      "metadata": {
        "id": "KlIKyD1jnqvx"
      },
      "execution_count": 25,
      "outputs": []
    },
    {
      "cell_type": "markdown",
      "source": [
        "# <h1> <font color='red'>DESAFIO:</font> Criar um arquivo .py com o treinamento do modelo de machine learning\n",
        "\n",
        "Treinar o modelo de Machine Learning em arquivos .py, em vez de Jupyter Notebook, para implementação de deploy é importante devido a várias razões."
      ],
      "metadata": {
        "id": "WB91KwnW4_j2"
      }
    },
    {
      "cell_type": "markdown",
      "source": [
        "https://github.com/pfluiz/Alura_Challenge_Novexus/blob/main/novexus_completo.py"
      ],
      "metadata": {
        "id": "XdBv7kxFavi9"
      }
    },
    {
      "cell_type": "markdown",
      "source": [
        "# <h1> <font color='red'>DESAFIO:</font> Construa a interface no streamlit para obter novos dados\n",
        "\n",
        "Crie uma interface utilizando o Streamlit para que um funcionário da Novexus possa fornecer informações sobre um cliente específico."
      ],
      "metadata": {
        "id": "VcDiwfta5Sfq"
      }
    },
    {
      "cell_type": "markdown",
      "source": [
        "https://novexus.streamlit.app/"
      ],
      "metadata": {
        "id": "JiNl8_CmNGns"
      }
    },
    {
      "cell_type": "markdown",
      "source": [
        "# <h1> <font color='red'>DESAFIO:</font> Organize seu projeto em pastas\n",
        "\n",
        "Melhore ainda mais a apresentação do seu projeto deixando-o mais organizado em pastas. Um exemplo de organização de projeto de data science pode ser encontrado em \"Cookiecutter Data Science\". Quando for utilizar esse material, lembre-se de adaptá-lo para as suas necessidad\n"
      ],
      "metadata": {
        "id": "Fwt72F_j5lHz"
      }
    },
    {
      "cell_type": "markdown",
      "source": [
        "# <h1> <font color='red'>DESAFIO:</font> Identifique suas conclusões\n"
      ],
      "metadata": {
        "id": "mTm6ZWoS5xnC"
      }
    },
    {
      "cell_type": "markdown",
      "source": [
        "Acurácia (Accuracy): 0.635\n",
        "* A acurácia é uma métrica geral que pode ser menos útil em problemas de Churn. Uma acurácia de 63.5% é moderada e sugere que há espaço para melhorias.\n",
        "\n",
        "Recall (Sensibilidade): 0.889\n",
        "* Em um contexto de Churn, um alto recall é especialmente valioso. Isso significa que <font color='green'>o modelo é bom em identificar clientes que estão em risco de churn, o que é crucial para ações preventivas</font>. Um recall de 88.9% é excelente e sugere que o modelo captura a maioria dos casos de churn.\n",
        "\n",
        "Precisão: 0.462\n",
        "* A precisão mais baixa significa que <font color='red'>o modelo também classifica muitos clientes como em risco de churn quando na verdade não estão</font>. Isso pode levar a custos adicionais para a empresa, como descontos ou promoções oferecidas desnecessariamente. Uma precisão de 46.2% pode ser uma área para melhoria.\n",
        "\n",
        "F1 Score: 0.608\n",
        "* O F1 Score tenta equilibrar precisão e recall. Um F1 Score de 60.8% indica que ainda há espaço para melhorar o equilíbrio entre essas duas métricas.\n",
        "\n",
        "Matriz de Confusão\n",
        "* Verdadeiros Positivos (TP): 1561\n",
        "* Verdadeiros Negativos (TN): 1937\n",
        "* Falsos Positivos (FP): 1819\n",
        "* Falsos Negativos (FN): 195\n",
        "\n",
        "Em um contexto de Churn:\n",
        "\n",
        "* Verdadeiros Positivos são os casos em que o modelo corretamente identificou o churn.\n",
        "* Verdadeiros Negativos são os casos em que o modelo corretamente identificou a retenção.\n",
        "* Falsos Positivos são aqueles que o modelo incorretamente previu como churn, mas que na realidade são retenção.\n",
        "* Falsos Negativos são aqueles que o modelo incorretamente previu como retenção, mas que na realidade são churn.\n",
        "\n",
        "A escolha da métrica Recall partiu da preferência por minimizar os Falsos Negativos (FN) para capturar o máximo de clientes em risco de churn, o que o modelo já faz bem (FN = 195 é relativamente baixo comparado ao TP). No entanto, o alto número de Falsos Positivos (FP = 1819) pode ser uma preocupação, já que isso pode levar a gastos desnecessários em retenção de clientes que não estão em risco."
      ],
      "metadata": {
        "id": "G-qGDW6T9btq"
      }
    },
    {
      "cell_type": "markdown",
      "source": [
        "# <h1> <font color='blue'>EXTRA:</font> Probabilidade de churn\n",
        "\n",
        "Realize a previsão da probabilidade de um cliente dar churn nos serviços da empresa e insira isso na interface após o funcionário da Novexus clicar no botão \"previsão\", criado anteriormente. Pesquise na documentação pelo método predict_proba."
      ],
      "metadata": {
        "id": "BE4uBKD856xM"
      }
    },
    {
      "cell_type": "markdown",
      "source": [
        "# <h1> <font color='blue'>EXTRA:</font> Disponibilize o APP\n",
        "\n",
        "Deixe seu app com acesso liberado para todos que tiverem a URL. A documentação Streamlit explica como fazer esse deploy do APP utilizando o github."
      ],
      "metadata": {
        "id": "aR30Avph6HQy"
      }
    },
    {
      "cell_type": "markdown",
      "source": [
        "# <h1> <font color='blue'>EXTRA:</font> Compartilhe seu projeto com sua rede no linkedin.\n",
        "\n",
        "Compartilhe seu projeto com seu repositório e o que foi aprendido no LinkedIn. Isso ajudará a dar mais visibilidade ao que você desenvolveu ao longo das semanas."
      ],
      "metadata": {
        "id": "Krq09He56QZa"
      }
    },
    {
      "cell_type": "code",
      "source": [],
      "metadata": {
        "id": "TzGeclR-6MVY"
      },
      "execution_count": 25,
      "outputs": []
    }
  ]
}